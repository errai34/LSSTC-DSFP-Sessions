{
 "cells": [
  {
   "cell_type": "markdown",
   "metadata": {},
   "source": [
    "# Galaxy photometry\n",
    "\n",
    "**Version 0.1**\n",
    "\n",
    "Today our goal is to compute the 1D radial profile of a simulated galaxy. While many software packages exist to do this, we will build this same functionality from scratch. Following this, we will be able to fit a radial profile to a galaxy image and measure its size. In practice, this problem is more complicated, but this example is, nevertheless, instructive.\n",
    "\n",
    "* * *\n",
    "\n",
    "By M Alpaslan (NYU) & AA Miller (CIERA/Northwestern & Adler)"
   ]
  },
  {
   "cell_type": "code",
   "execution_count": 5,
   "metadata": {},
   "outputs": [
    {
     "ename": "ImportError",
     "evalue": "No module named numpy",
     "output_type": "error",
     "traceback": [
      "\u001b[0;31m---------------------------------------------------------------------------\u001b[0m",
      "\u001b[0;31mImportError\u001b[0m                               Traceback (most recent call last)",
      "\u001b[0;32m<ipython-input-5-22ca58fba1ca>\u001b[0m in \u001b[0;36m<module>\u001b[0;34m()\u001b[0m\n\u001b[0;32m----> 1\u001b[0;31m \u001b[0;32mimport\u001b[0m \u001b[0mnumpy\u001b[0m \u001b[0;32mas\u001b[0m \u001b[0mnp\u001b[0m\u001b[0;34m\u001b[0m\u001b[0m\n\u001b[0m\u001b[1;32m      2\u001b[0m \u001b[0;32mimport\u001b[0m \u001b[0mmatplotlib\u001b[0m\u001b[0;34m.\u001b[0m\u001b[0mpyplot\u001b[0m \u001b[0;32mas\u001b[0m \u001b[0mplt\u001b[0m\u001b[0;34m\u001b[0m\u001b[0m\n\u001b[1;32m      3\u001b[0m \u001b[0;32mfrom\u001b[0m \u001b[0mastropy\u001b[0m\u001b[0;34m.\u001b[0m\u001b[0mio\u001b[0m \u001b[0;32mimport\u001b[0m \u001b[0mfits\u001b[0m\u001b[0;34m\u001b[0m\u001b[0m\n\u001b[1;32m      4\u001b[0m \u001b[0;34m\u001b[0m\u001b[0m\n\u001b[1;32m      5\u001b[0m \u001b[0mget_ipython\u001b[0m\u001b[0;34m(\u001b[0m\u001b[0;34m)\u001b[0m\u001b[0;34m.\u001b[0m\u001b[0mmagic\u001b[0m\u001b[0;34m(\u001b[0m\u001b[0;34mu'matplotlib inline'\u001b[0m\u001b[0;34m)\u001b[0m\u001b[0;34m\u001b[0m\u001b[0m\n",
      "\u001b[0;31mImportError\u001b[0m: No module named numpy"
     ]
    }
   ],
   "source": [
    "import numpy as np\n",
    "import matplotlib.pyplot as plt\n",
    "from astropy.io import fits\n",
    "\n",
    "%matplotlib inline"
   ]
  },
  {
   "cell_type": "markdown",
   "metadata": {},
   "source": [
    "## Problem 1) Visualize the Galaxy Image Data\n",
    "\n",
    "The simulated galaxy for today's problem comes from the [Illustris Simulation](http://www.illustris-project.org), which is a large cosmological simulation of galaxy formation.\n",
    "\n",
    "Download the fits image for our simulated galaxy: https://northwestern.box.com/s/a8qp2afv6ed9r36v0y0vyc3vf82s1bw0\n",
    "\n",
    "(*Note* - The Illustris team has made simulated images of many different galaxies [available](http://www.illustris-project.org/galaxy_obs/).)"
   ]
  },
  {
   "cell_type": "markdown",
   "metadata": {},
   "source": [
    "**Problem 1a**\n",
    "\n",
    "Using your favorite tool, display an image of the galaxy using a logarithmic stretch. Do you notice anything unusual about the image?"
   ]
  },
  {
   "cell_type": "code",
   "execution_count": null,
   "metadata": {},
   "outputs": [],
   "source": [
    "from astropy import visualization as aviz\n",
    "from astropy.io import fits\n",
    "\n",
    "data_g = fits.open('galaxy.fits')\n",
    "data_g\n",
    "\n",
    "gal_im = data_g[0].data\n",
    "norm = aviz.ImageNormalize(gal_im,\n",
    "                          interval=aviz.PercentileInterval(95),\n",
    "                          stretch=aviz.LogStretch())\n",
    "\n",
    "fig, ax = plt.subplots(1,1, figsize=(6,10))\n",
    "aim = ax.imshow(gal_im, norm=norm, origin='lower')\n",
    "plt.colorbar(aim)\n",
    "plt.tight_layout()"
   ]
  },
  {
   "cell_type": "markdown",
   "metadata": {},
   "source": [
    "**Problem 1b** \n",
    "\n",
    "Plot a histogram of the $\\log$ of the pixel values in the simulated image.\n",
    "\n",
    "*Hint* - you will likely want more than the `matplotlib` default number of bins."
   ]
  },
  {
   "cell_type": "code",
   "execution_count": null,
   "metadata": {},
   "outputs": [],
   "source": [
    "flat_im = np.ndarray.flatten(gal_im)\n",
    "\n",
    "plt.hist(np.log10(flat_im), bins = 100)\n",
    "plt.yscale(\"log\")"
   ]
  },
  {
   "cell_type": "markdown",
   "metadata": {},
   "source": [
    "**Problem 1c** \n",
    "\n",
    "Informed by your histogram, replace any highly discrepant pixels within the image with the median pixel value for the image.\n",
    "\n",
    "*Hint* - plot the results to confirm this operation occurred as expected.\n",
    "\n",
    "*Note* - this procedure is strongly discouraged with real data: if weird things are happening in an image there is a reason, and it is best to understand the origins of the peculiarities. For our current purposes, this step will simplify our analysis."
   ]
  },
  {
   "cell_type": "code",
   "execution_count": null,
   "metadata": {},
   "outputs": [],
   "source": [
    "median_pix=(np.median(flat_im))\n",
    "\n",
    "#remove lower pixels (in log10)\n",
    "gal_im_log = np.log10(gal_im)\n",
    "lowcut=-17.5\n",
    "highcut=-2.5\n",
    "\n",
    "unusual_pix1 = (gal_im_log < lowcut)# and (gal_im_log>highcut) # complete\n",
    "unusual_pix2 = (gal_im_log > highcut)\n",
    "\n",
    "unusual_pix=unusual_pix1+unusual_pix2\n",
    "\n",
    "print(unusual_pix)\n",
    "gal_im_log[unusual_pix]=np.log10(median_pix)\n",
    "\n",
    "gal_median_filt = 10**gal_im_log\n",
    "\n",
    "norm = aviz.ImageNormalize(gal_median_filt,\n",
    "                          interval=aviz.PercentileInterval(95),\n",
    "                          #stretch=aviz.LogStretch())\n",
    "                          stretch=aviz.SqrtStretch())\n",
    "\n",
    "fig, ax = plt.subplots(1,1, figsize=(6,10))\n",
    "aim = ax.imshow(gal_median_filt, norm=norm, origin='lower')\n",
    "plt.colorbar(aim)\n",
    "\n",
    "#plt.tight_layout()"
   ]
  },
  {
   "cell_type": "markdown",
   "metadata": {},
   "source": [
    "## Problem 2) Measuring Radial Intensities\n",
    "\n",
    "Before we can measure the radial profile of this galaxy, we need to compute the flux intensity at a given radius. By convention, this is done by computing the mean flux along an ellipse centered on the galaxy (where the \"radius\" in this case is the semi-major axis).\n",
    "\n",
    "An ellipse with arbitrary centroid and rotation angle can be described as \n",
    "\n",
    "$$ \\frac{((x-h)\\cos{\\theta} - (y-k)\\sin{\\theta})^2}{a^2} + \\frac{((x-h)\\sin{\\theta} + (y-k)\\cos{\\theta})^2}{b^2} = 1,$$\n",
    "\n",
    "where $h, k, a, b, \\theta$ are the x centroid, y centroid, semi-major axis, semi-minor axes, and the rotation angle of the elipse, respectively.\n",
    "\n",
    "This can be re-written as (it's worth checking this on the board or scratch paper):\n",
    "\n",
    "$$\\left(\\frac{\\sin^2{\\theta}}{a^2} + \\frac{\\cos^2{\\theta}}{b^2}\\right)y^2 + \\left(-2\\frac{((x-h)\\cos{\\theta} + k\\sin{\\theta})\\sin{\\theta}}{a^2} + 2\\frac{((x-h)\\sin{\\theta} - k\\cos{\\theta})\\cos{\\theta}}{b^2}\\right)y + \\left(\\frac{((x-h)\\cos{\\theta} + k\\sin{\\theta})^2}{a^2} + \\frac{((x-h)\\sin{\\theta} - k\\cos{\\theta})^2}{b^2} - 1\\right) = 0$$"
   ]
  },
  {
   "cell_type": "markdown",
   "metadata": {},
   "source": [
    "**Problem 2a**\n",
    "\n",
    "Write a function to solve for $y$ given $x$ and the ellipse parameters.\n",
    "\n",
    "*Hint* - the function [`np.roots`](https://docs.scipy.org/doc/numpy-1.13.0/reference/generated/numpy.roots.html) may be helpful."
   ]
  },
  {
   "cell_type": "code",
   "execution_count": null,
   "metadata": {},
   "outputs": [],
   "source": [
    "def y_ellipse(x, h, k, a, b, theta):\n",
    "    \n",
    "    term1 = np.sin(theta)**2/(a **2) + np.cos(theta)**2/(b**2)\n",
    "    term2 = -2 * ((x - h)*np.cos(theta) + k * np.sin(theta))*np.sin(theta)/a**2\n",
    "\n",
    "    term3 = +2 * ((x - h)*np.sin(theta) - k * np.cos(theta))*np.cos(theta)/b**2\n",
    "    term4 = ((x - h)*np.cos(theta) + k * np.sin(theta))**2/a**2\n",
    "    term5 = ((x - h)*np.sin(theta) - k * np.cos(theta))**2/b **2 \n",
    "        \n",
    "    A = term1\n",
    "    B = term2 + term3\n",
    "    C = term4 + term5 - 1\n",
    "\n",
    "    return np.roots([A, B, C])"
   ]
  },
  {
   "cell_type": "code",
   "execution_count": null,
   "metadata": {},
   "outputs": [],
   "source": [
    "np.sort(np.roots([1, 2, 3]))"
   ]
  },
  {
   "cell_type": "markdown",
   "metadata": {},
   "source": [
    "**Problem 2b**\n",
    "\n",
    "Plot an elipse using your equation with $h = 0$, $k = 0$, $a = 4$, $b = 2$, and $\\theta = \\pi/6$.\n",
    "\n",
    "*Hint* - most of this code has been provided for you."
   ]
  },
  {
   "cell_type": "code",
   "execution_count": 1,
   "metadata": {},
   "outputs": [
    {
     "ename": "NameError",
     "evalue": "name 'np' is not defined",
     "output_type": "error",
     "traceback": [
      "\u001b[0;31m---------------------------------------------------------------------------\u001b[0m",
      "\u001b[0;31mNameError\u001b[0m                                 Traceback (most recent call last)",
      "\u001b[0;32m<ipython-input-1-b38c2e679235>\u001b[0m in \u001b[0;36m<module>\u001b[0;34m()\u001b[0m\n\u001b[0;32m----> 1\u001b[0;31m \u001b[0mx_grid\u001b[0m \u001b[0;34m=\u001b[0m \u001b[0mnp\u001b[0m\u001b[0;34m.\u001b[0m\u001b[0mlinspace\u001b[0m\u001b[0;34m(\u001b[0m\u001b[0;34m-\u001b[0m\u001b[0;36m3.605\u001b[0m\u001b[0;34m,\u001b[0m \u001b[0;36m3.605\u001b[0m\u001b[0;34m,\u001b[0m \u001b[0;36m1000\u001b[0m\u001b[0;34m)\u001b[0m\u001b[0;34m\u001b[0m\u001b[0m\n\u001b[0m\u001b[1;32m      2\u001b[0m \u001b[0mh\u001b[0m \u001b[0;34m=\u001b[0m \u001b[0;36m0\u001b[0m\u001b[0;34m\u001b[0m\u001b[0m\n\u001b[1;32m      3\u001b[0m \u001b[0mk\u001b[0m \u001b[0;34m=\u001b[0m \u001b[0;36m0\u001b[0m\u001b[0;34m\u001b[0m\u001b[0m\n\u001b[1;32m      4\u001b[0m \u001b[0ma\u001b[0m \u001b[0;34m=\u001b[0m \u001b[0;36m4\u001b[0m\u001b[0;34m\u001b[0m\u001b[0m\n\u001b[1;32m      5\u001b[0m \u001b[0mb\u001b[0m \u001b[0;34m=\u001b[0m \u001b[0;36m2\u001b[0m\u001b[0;34m\u001b[0m\u001b[0m\n",
      "\u001b[0;31mNameError\u001b[0m: name 'np' is not defined"
     ]
    }
   ],
   "source": [
    "x_grid = np.linspace(-3.605, 3.605, 1000)\n",
    "h = 0\n",
    "k = 0\n",
    "a = 4\n",
    "b = 2\n",
    "theta = np.pi / 6\n",
    "y_vals = np.vstack((np.empty_like(x_grid), np.empty_like(x_grid)))\n",
    "for x_num, x in enumerate(x_grid):\n",
    "    roots = y_ellipse(x, h, k, a, b, theta) \n",
    "\n",
    "    y_vals[:,x_num] = np.sort(roots)\n",
    "    \n",
    "plt.plot(np.append(x_grid, x_grid[::-1]), np.append(y_vals[0], y_vals[1][::-1]))\n",
    "plt.xlim(-4, 4)\n",
    "plt.ylim(-4, 4)"
   ]
  },
  {
   "cell_type": "markdown",
   "metadata": {},
   "source": [
    "**Problem 2c**\n",
    "\n",
    "Write a function to measure the average flux of every pixel in the image that is intersected by an ellipse with parameters $k, h, a, b, \\theta$.\n",
    "\n",
    "*Hint* - `np.floor()` will be useful for selecting the correct pixel.\n",
    "\n",
    "*Hint 2* - brute force is not elegant, but it is sufficient as long as you throw away imaginary solutions."
   ]
  },
  {
   "cell_type": "code",
   "execution_count": 74,
   "metadata": {},
   "outputs": [
    {
     "data": {
      "text/plain": [
       "array([ 1.,  1.])"
      ]
     },
     "execution_count": 74,
     "metadata": {},
     "output_type": "execute_result"
    }
   ],
   "source": [
    "array = [1.23, 1.57]\n",
    "np.floor(array)"
   ]
  },
  {
   "cell_type": "code",
   "execution_count": null,
   "metadata": {
    "collapsed": true
   },
   "outputs": [],
   "source": [
    "def mean_radial_flux(im_data, h, k, a, b, theta):\n",
    "    \n",
    "    x_grid = np,aranfe(im.data[0])\n",
    "    return # complete"
   ]
  },
  {
   "cell_type": "markdown",
   "metadata": {},
   "source": [
    "For this and the remaining problems, assume that the galaxy is centered at (x, y) = (128, 138), that the ellipticity (1 - b/a) is fixed at 0.3, and that $\\theta = 0.8377$. [In principle we could ask you to determine each of these values, but that is outside the scope of the current problem.]\n",
    "\n",
    "**Problem 2d** \n",
    "\n",
    "Measure the mean \"radial\" flux of the galaxy at $a = 5$ and $a = 20$. Do these answers make sense? "
   ]
  },
  {
   "cell_type": "code",
   "execution_count": null,
   "metadata": {
    "collapsed": true
   },
   "outputs": [],
   "source": [
    "a5_flux = # complete\n",
    "a20_flux = # complete\n",
    "\n",
    "print(\"The mean flux at 5 pixels is {:.6f}\".format( # complete\n",
    "print(\"The mean flux at 20 pixels is {:.6f}\".format( # complete"
   ]
  },
  {
   "cell_type": "markdown",
   "metadata": {},
   "source": [
    "**Problem 2e**\n",
    "\n",
    "Plot the \"mean radial profile\" of the galaxy.\n",
    "\n",
    "*Hint* - when choosing a grid of radii to measure, recall that the function does not make sub-pixel estimates of the flux. "
   ]
  },
  {
   "cell_type": "code",
   "execution_count": null,
   "metadata": {
    "collapsed": true
   },
   "outputs": [],
   "source": [
    "r_grid = # complete\n",
    "mean_rad_prof = # complete\n",
    "for # complete\n",
    "\n",
    "plt.plot( # complete"
   ]
  },
  {
   "cell_type": "markdown",
   "metadata": {},
   "source": [
    "## Problem 3) Sersic Profile\n",
    "\n",
    "The Sersic profile for galaxies can be written as: \n",
    "\n",
    "$$\\ln I(R) = \\ln I_0 - kR^{1/n},$$\n",
    "\n",
    "where $I$ is the intensity (or flux), $I_0$ is the intensity at $R = 0$, $k$ is a normalization constant, and $n$ is the \"Sersic index\", which describes the curvature of the light profile.\n",
    "\n",
    "We will now use a non-linear optimization routine from `scipy.optimize` to determine the value of the Sersic index."
   ]
  },
  {
   "cell_type": "markdown",
   "metadata": {},
   "source": [
    "**Problem 3a**\n",
    "\n",
    "Create a function `squared_error()` that calculates the sum of the squared difference between $\\ln I(R)$ and $\\ln I_0 - kR^{1/n}$.\n",
    "\n",
    "*Hint* - the 3 unknown parameters ($I_0$, $k$, and $n$) should be passed to the function as a single tuple called `params`."
   ]
  },
  {
   "cell_type": "code",
   "execution_count": null,
   "metadata": {
    "collapsed": true
   },
   "outputs": [],
   "source": [
    "def squared_error( # complete\n",
    "    \n",
    "    # complete\n",
    "    # complete\n",
    "    # complete"
   ]
  },
  {
   "cell_type": "markdown",
   "metadata": {},
   "source": [
    "**Problem 3b**\n",
    "\n",
    "Using the `L-BFGS-B` method of `scipy.optimize.minimize()`, determine the value of the Sersic index.\n",
    "\n",
    "*Hint* - you will want to provide a reasonable first guess along with bounds for the minimization function."
   ]
  },
  {
   "cell_type": "code",
   "execution_count": null,
   "metadata": {
    "collapsed": true
   },
   "outputs": [],
   "source": [
    "from scipy.optimize import minimize\n",
    "res = minimize( # complete\n",
    "                # complete\n",
    "                # complete\n",
    "\n",
    "print(\"The Sersic index is {:.3f}\".format( # complete"
   ]
  },
  {
   "cell_type": "markdown",
   "metadata": {},
   "source": [
    "## Challenge Problem\n",
    "\n",
    "The image that we have been working with reflects the full sensitivity of the Illustris simulation. Ground based images are observed through the atmosphere. Convolve the image with a PSF (assume a circular gaussian with FWHM = 12 pixels) and re-measure the Sersic index. How does your answer compare?"
   ]
  },
  {
   "cell_type": "code",
   "execution_count": null,
   "metadata": {
    "collapsed": true
   },
   "outputs": [],
   "source": [
    "# complete"
   ]
  }
 ],
 "metadata": {
  "kernelspec": {
   "display_name": "Python 2",
   "language": "python",
   "name": "python2"
  },
  "language_info": {
   "codemirror_mode": {
    "name": "ipython",
    "version": 2
   },
   "file_extension": ".py",
   "mimetype": "text/x-python",
   "name": "python",
   "nbconvert_exporter": "python",
   "pygments_lexer": "ipython2",
   "version": "2.7.14"
  }
 },
 "nbformat": 4,
 "nbformat_minor": 2
}
