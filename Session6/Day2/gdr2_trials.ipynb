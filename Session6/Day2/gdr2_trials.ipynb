{
 "cells": [
  {
   "cell_type": "code",
   "execution_count": 2,
   "metadata": {},
   "outputs": [],
   "source": [
    "import numpy as np\n",
    "import matplotlib.pyplot as plt\n",
    "%matplotlib notebook\n",
    "\n",
    "from pyevtk.hl import gridToVTK, pointsToVTK"
   ]
  },
  {
   "cell_type": "code",
   "execution_count": 3,
   "metadata": {},
   "outputs": [
    {
     "name": "stdout",
     "output_type": "stream",
     "text": [
      "Insert your field id: \n",
      " >> 1\n"
     ]
    },
    {
     "name": "stderr",
     "output_type": "stream",
     "text": [
      "/Users/ioanaciuca/anaconda3/envs/DSFP/lib/python3.6/site-packages/astropy/table/column.py:965: RuntimeWarning: invalid value encountered in greater\n",
      "  return getattr(self.data, op)(other)\n"
     ]
    },
    {
     "name": "stdout",
     "output_type": "stream",
     "text": [
      "Data length is 14505\n"
     ]
    }
   ],
   "source": [
    "import numpy as np\n",
    "\n",
    "from astropy.table import Table\n",
    "\n",
    "idsource = input(\"Insert your field id: \\n >> \")\n",
    "idsource = int(idsource)\n",
    "\n",
    "t_name = \"/Users/ioanaciuca/Desktop/make_dwarfs/gdr2_files/gdr2_source%s.fits\"% int(idsource)\n",
    "\n",
    "data = Table.read(t_name, format = \"fits\")\n",
    "data = data[(data[\"Plx\"] > -1000) & (data[\"Teff\"] > 0)]\n",
    "\n",
    "print(\"Data length is\", len(data))"
   ]
  },
  {
   "cell_type": "code",
   "execution_count": null,
   "metadata": {},
   "outputs": [],
   "source": [
    "from bokeh.io import output_file, show\n",
    "from bokeh.plotting import figure\n",
    "from bokeh.transform import linear_cmap\n",
    "from bokeh.util.hex import hexbin\n",
    "from bokeh.models import Range1d\n",
    "\n",
    "x = np.array(data[\"pmRA\"])\n",
    "y = np.array(data[\"pmDE\"])\n",
    "z = np.array(1.0/ data[\"Plx\"])\n",
    "\n",
    "bins = hexbin(x, y, 0.2)\n",
    "\n",
    "p = figure(title=\"Manual hex bin for 50000 points\", tools=\"wheel_zoom,reset\",\n",
    "           match_aspect=True, background_fill_color='#440154')\n",
    "p.x_range = Range1d(-15, 10)\n",
    "p.y_range = Range1d(-15, 10)\n",
    "p.grid.visible = False\n",
    "\n",
    "p.hex_tile(q=\"q\", r=\"r\", size=0.1, line_color=None, source=bins,\n",
    "           fill_color=linear_cmap('counts', 'Viridis256', 0, max(bins.counts)))\n",
    "\n",
    "output_file(\"hex_tile.html\")\n",
    "\n",
    "show(p)"
   ]
  },
  {
   "cell_type": "code",
   "execution_count": 5,
   "metadata": {},
   "outputs": [
    {
     "data": {
      "text/plain": [
       "(array([  1.,   5.,   6.,  12.,   3.,  15.,  21.,  19.,   5.,  13.]),\n",
       " array([ 3369.33 ,  3628.997,  3888.664,  4148.331,  4407.998,  4667.665,\n",
       "         4927.332,  5186.999,  5446.666,  5706.333,  5966.   ]),\n",
       " <a list of 10 Patch objects>)"
      ]
     },
     "execution_count": 5,
     "metadata": {},
     "output_type": "execute_result"
    },
    {
     "data": {
      "image/png": "[encoded data removed]",
      "text/plain": [
       "<Figure size 432x288 with 1 Axes>"
      ]
     },
     "metadata": {},
     "output_type": "display_data"
    }
   ],
   "source": [
    "x = np.array(data[\"pmRA\"])[:1000]\n",
    "y = np.array(data[\"pmDE\"])[:1000]\n",
    "z = np.array(data[\"Plx\"])[:1000]\n",
    "\n",
    "xp, yp, zp = np.meshgrid(x[:-1] + np.diff(x)/2,y[:-1] + np.diff(y)/2, z[:-1] + np.diff(z)/2, indexing = 'ij')\n",
    "temp = np.array(data[\"Teff\"])[:100]\n",
    "\n",
    "import matplotlib.pyplot as plt\n",
    "plt.hist(temp)"
   ]
  },
  {
   "cell_type": "code",
   "execution_count": null,
   "metadata": {},
   "outputs": [],
   "source": [
    "gridToVTK(\"./gdr2_trial\", xp, yp, zp, pointData = {\"temp\" : temp})"
   ]
  },
  {
   "cell_type": "code",
   "execution_count": null,
   "metadata": {},
   "outputs": [],
   "source": []
  }
 ],
 "metadata": {
  "kernelspec": {
   "display_name": "Python 3",
   "language": "python",
   "name": "python3"
  },
  "language_info": {
   "codemirror_mode": {
    "name": "ipython",
    "version": 3
   },
   "file_extension": ".py",
   "mimetype": "text/x-python",
   "name": "python",
   "nbconvert_exporter": "python",
   "pygments_lexer": "ipython3",
   "version": "3.6.5"
  }
 },
 "nbformat": 4,
 "nbformat_minor": 2
}
