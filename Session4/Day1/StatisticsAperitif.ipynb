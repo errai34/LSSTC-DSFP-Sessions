{
 "cells": [
  {
   "cell_type": "code",
   "execution_count": 1,
   "metadata": {
    "slideshow": {
     "slide_type": "skip"
    }
   },
   "outputs": [],
   "source": [
    "import numpy as np\n",
    "import matplotlib.pyplot as plt\n",
    "\n",
    "%matplotlib notebook"
   ]
  },
  {
   "cell_type": "markdown",
   "metadata": {
    "collapsed": true,
    "slideshow": {
     "slide_type": "slide"
    }
   },
   "source": [
    "# Introduction to Statistics:\n",
    "An Aperitif for DSFP Session 4\n",
    "========\n",
    "\n",
    "#### Version 0.1\n",
    "\n",
    "***\n",
    "By AA Miller 2017 Sep 14"
   ]
  },
  {
   "cell_type": "markdown",
   "metadata": {
    "slideshow": {
     "slide_type": "subslide"
    }
   },
   "source": [
    "An [Introduction to Statistics](https://github.com/LSSTC-DSFP/LSSTC-DSFP-Sessions/blob/master/Session1/Day2/IntroStat.pdf) was covered during Session 1 of the DSFP. Typically, this initial lecture is used as a means of providing a brief overview of the Session 1 material, but that does not make sense in the context of Session 4, as half of you have not seen this lecture."
   ]
  },
  {
   "cell_type": "markdown",
   "metadata": {
    "slideshow": {
     "slide_type": "subslide"
    }
   },
   "source": [
    "Instead, today we will focus on a relatively simple problem, while highlighting several challenges for the standard astronomical workflow, as a way of setting up the various lectures that will happen over the course of this week. \n",
    "\n",
    "A lot of the lessons in this lecture are inspired by the paper [Data Analysis Recipes: Fitting a Model to Data](https://arxiv.org/abs/1008.4686) by Hogg, Bovy, & Lang. [This paper has been mentioned previously in the DSFP, though today we will only be able to scratch the surface of its content.]"
   ]
  },
  {
   "cell_type": "markdown",
   "metadata": {
    "slideshow": {
     "slide_type": "subslide"
    }
   },
   "source": [
    "In some sense - the goal right now is to make you really nervous about the work that you've previously done. \n",
    "\n",
    "(Though this lecture should not be met with too much consternation, as you will have a toolkit to deal with all the issues that we raise by the end of the week)"
   ]
  },
  {
   "cell_type": "markdown",
   "metadata": {
    "slideshow": {
     "slide_type": "slide"
    }
   },
   "source": [
    "## Problem 1) Data\n",
    "\n",
    "At the core of everything we hope to accomplish with the DSFP stands a single common connection: data."
   ]
  },
  {
   "cell_type": "markdown",
   "metadata": {
    "slideshow": {
     "slide_type": "subslide"
    }
   },
   "source": [
    "There are many things we (may) want to do with these data: reduce them, visualize them, model them, develop predictions from them, use them to infer fundamental properties of the universe (!)."
   ]
  },
  {
   "cell_type": "markdown",
   "metadata": {
    "slideshow": {
     "slide_type": "subslide"
    }
   },
   "source": [
    "Before we dive into that really fun stuff, we should start with some basics:"
   ]
  },
  {
   "cell_type": "markdown",
   "metadata": {
    "slideshow": {
     "slide_type": "slide"
    }
   },
   "source": [
    "**Problem 1a**\n",
    "\n",
    "What is data?"
   ]
  },
  {
   "cell_type": "markdown",
   "metadata": {
    "slideshow": {
     "slide_type": "subslide"
    }
   },
   "source": [
    "*Take a few min to discuss this with your partner*"
   ]
  },
  {
   "cell_type": "markdown",
   "metadata": {
    "slideshow": {
     "slide_type": "subslide"
    }
   },
   "source": [
    "**Solution 1a**\n",
    "'Data is information aimed for the purpose of getting knowledge about a system. Data is qualitative and quantitative observations. Data are constants'"
   ]
  },
  {
   "cell_type": "markdown",
   "metadata": {
    "slideshow": {
     "slide_type": "slide"
    }
   },
   "source": [
    "**Problem 1b**\n",
    "\n",
    "Below, I provide some data (in the form of `numpy` arrays). As good data scientists, what is the first thing you should do with this data?\n",
    "\n",
    "Feel free to create a new cell if necessary."
   ]
  },
  {
   "cell_type": "code",
   "execution_count": 3,
   "metadata": {
    "slideshow": {
     "slide_type": "subslide"
    }
   },
   "outputs": [
    {
     "data": {
      "text/plain": [
       "'First important thing when you deal with data is to know what it is and where it is coming from.'"
      ]
     },
     "execution_count": 3,
     "metadata": {},
     "output_type": "execute_result"
    },
    {
     "data": {
      "image/png": "[encoded data removed]",
      "text/plain": [
       "<Figure size 432x288 with 1 Axes>"
      ]
     },
     "metadata": {},
     "output_type": "display_data"
    }
   ],
   "source": [
    "y = np.array([203, 58, 210, 202, 198, 158, \n",
    "              165, 201, 157, 131, 166, 160, \n",
    "              186, 125, 218, 146])\n",
    "x = np.array([495, 173, 479, 504, 510, 416, \n",
    "              393, 442, 317, 311, 400, 337, \n",
    "              423, 334, 533, 344])\n",
    "\n",
    "plt.scatter(x, y, lw = 3)\n",
    "plt.xlabel('x')\n",
    "plt.ylabel('y')\n",
    "\n",
    "'First important thing when you deal with data is to know what it is and where it is coming from.'"
   ]
  },
  {
   "cell_type": "markdown",
   "metadata": {
    "slideshow": {
     "slide_type": "slide"
    }
   },
   "source": [
    "**Problem 1c**\n",
    "\n",
    "[You may have already done this] Now that we understand the origin of the data, make a scatter plot showing their distribution."
   ]
  },
  {
   "cell_type": "code",
   "execution_count": 4,
   "metadata": {
    "slideshow": {
     "slide_type": "subslide"
    }
   },
   "outputs": [
    {
     "data": {
      "text/plain": [
       "Text(0,0.5,'y')"
      ]
     },
     "execution_count": 4,
     "metadata": {},
     "output_type": "execute_result"
    },
    {
     "data": {
      "image/png": "[encoded data removed]",
      "text/plain": [
       "<Figure size 432x288 with 1 Axes>"
      ]
     },
     "metadata": {},
     "output_type": "display_data"
    }
   ],
   "source": [
    "y = np.array([203, 58, 210, 202, 198, 158, \n",
    "              165, 201, 157, 131, 166, 160, \n",
    "              186, 125, 218, 146])\n",
    "x = np.array([495, 173, 479, 504, 510, 416, \n",
    "              393, 442, 317, 311, 400, 337, \n",
    "              423, 334, 533, 344])\n",
    "\n",
    "plt.scatter(x, y, lw = 3)\n",
    "plt.xlabel('x')\n",
    "plt.ylabel('y')"
   ]
  },
  {
   "cell_type": "markdown",
   "metadata": {
    "slideshow": {
     "slide_type": "slide"
    }
   },
   "source": [
    "## Probelm 2) Fitting a Line to Data\n",
    "\n",
    "There is a very good chance, though I am not specifically assuming anything, that upon making the previous plot you had a thought along the lines of \"these points fall on a line\" or \"these data represent a linear relationship.\"  "
   ]
  },
  {
   "cell_type": "markdown",
   "metadata": {
    "slideshow": {
     "slide_type": "slide"
    }
   },
   "source": [
    "**Problem 2a** \n",
    "\n",
    "Is the assumption of linearity valid for the above data?\n",
    "\n",
    "Is it convenient?"
   ]
  },
  {
   "cell_type": "markdown",
   "metadata": {
    "slideshow": {
     "slide_type": "subslide"
    }
   },
   "source": [
    "*Take a few min to discuss this with your partner*"
   ]
  },
  {
   "cell_type": "markdown",
   "metadata": {
    "slideshow": {
     "slide_type": "subslide"
    }
   },
   "source": [
    "**Solution 2a**\n",
    "\n",
    "*Linearity should be assumed only if there is a strong theoretical considerations for such a relationship.*"
   ]
  },
  {
   "cell_type": "markdown",
   "metadata": {
    "slideshow": {
     "slide_type": "slide"
    }
   },
   "source": [
    "Let us proceed with convenience and assume the data represent a linear relationship. In that case, in order to make predictions for future observations, we need to fit a line to the data. \n",
    "\n",
    "The \"standard\" proceedure for doing so is [least-squares fitting](https://en.wikipedia.org/wiki/Least_squares). In brief, least-squares minimizes the sum of the squared value of the residuals between the data and the fitting function."
   ]
  },
  {
   "cell_type": "markdown",
   "metadata": {
    "slideshow": {
     "slide_type": "subslide"
    }
   },
   "source": [
    "I've often joked that all you need to be a good data scientist is [google](https://www.google.com) and [stack overflow](https://stackoverflow.com). Via those two tools, we can quickly deduce that the easiest way to perform a linear least-squares fit to the above data is with [`np.polyfit`](https://docs.scipy.org/doc/numpy/reference/generated/numpy.polyfit.html), which performs a least-squares polynomial fit to two `numpy` arrays."
   ]
  },
  {
   "cell_type": "markdown",
   "metadata": {
    "slideshow": {
     "slide_type": "slide"
    }
   },
   "source": [
    "**Problem 2b**\n",
    "\n",
    "Use `np.polyfit()` to fit a line to the data. Overplot the best-fit line on the data."
   ]
  },
  {
   "cell_type": "code",
   "execution_count": 5,
   "metadata": {
    "slideshow": {
     "slide_type": "subslide"
    }
   },
   "outputs": [
    {
     "data": {
      "text/plain": [
       "<matplotlib.legend.Legend at 0x1094b7a58>"
      ]
     },
     "execution_count": 5,
     "metadata": {},
     "output_type": "execute_result"
    },
    {
     "data": {
      "image/png": "[encoded data removed]",
      "text/plain": [
       "<Figure size 432x288 with 1 Axes>"
      ]
     },
     "metadata": {},
     "output_type": "display_data"
    }
   ],
   "source": [
    "p = np.polyfit(x, y, 1) # complete\n",
    "\n",
    "plt.plot(x, x*p[0] + p[1], label = 'linear fit y = mx + y')# complete\n",
    "plt.scatter(x, y)\n",
    "plt.xlabel('x')\n",
    "plt.ylabel('y')\n",
    "plt.legend()"
   ]
  },
  {
   "cell_type": "markdown",
   "metadata": {
    "slideshow": {
     "slide_type": "subslide"
    }
   },
   "source": [
    "There is a very good chance, though, again, I am not specifically assuming anything, that for the previous plots that you plotted `x` along the abscissa and `y` along the ordinate. \n",
    "\n",
    "[Honestly, there's no one to blame if this is the case, this has essentially been drilled into all of us from the moment we started making plots. In fact, in `matplotlib` we cannot change the name of the abscissa label without adjusting the `xlabel`.]"
   ]
  },
  {
   "cell_type": "markdown",
   "metadata": {
    "slideshow": {
     "slide_type": "slide"
    }
   },
   "source": [
    "This leads us to an important question, however. What if `y` does not depend on `x` and instead `x` depends on `y`? Does that in any way change the results for the fit?"
   ]
  },
  {
   "cell_type": "markdown",
   "metadata": {
    "slideshow": {
     "slide_type": "subslide"
    }
   },
   "source": [
    "**Problem 2c**\n",
    "\n",
    "Perform a linear least-squares fit to `x` vs. `y` (or if you already fit this, then reverse the axes). As above, plot the data and the best-fit model.\n",
    "\n",
    "To test if the relation is the same between the two fits, compare the predicted `y` value for both models corresponding to `x = 300`."
   ]
  },
  {
   "cell_type": "code",
   "execution_count": 7,
   "metadata": {
    "slideshow": {
     "slide_type": "subslide"
    }
   },
   "outputs": [
    {
     "data": {
      "text/plain": [
       "array([  2.21665602,  28.84345193])"
      ]
     },
     "execution_count": 7,
     "metadata": {},
     "output_type": "execute_result"
    }
   ],
   "source": [
    "p_yx = np.polyfit(y, x, 1) \n",
    "p_yx"
   ]
  },
  {
   "cell_type": "code",
   "execution_count": 8,
   "metadata": {},
   "outputs": [
    {
     "name": "stdout",
     "output_type": "stream",
     "text": [
      "For y vs. x, then x=50 would predict y=24.80\n",
      "For x vs. y, then x=50 would predict y=9.54\n"
     ]
    },
    {
     "data": {
      "image/png": "[encoded data removed]",
      "text/plain": [
       "<Figure size 432x288 with 1 Axes>"
      ]
     },
     "metadata": {},
     "output_type": "display_data"
    }
   ],
   "source": [
    "plt.plot(y, y*p_yx[0] + p_yx[1], label = 'x = p_yx[0]* y + p_yx[1]') # complete\n",
    "plt.scatter(y, x)# complete\n",
    "plt.xlabel('y')\n",
    "plt.ylabel('x')\n",
    "plt.legend()\n",
    "print(\"For y vs. x, then x=50 would predict y={:.2f}\".format(50*p[0]+p[1]))\n",
    "print(\"For x vs. y, then x=50 would predict y={:.2f}\".format((50 - p_yx[1])/p_yx[0]))# complete"
   ]
  },
  {
   "cell_type": "markdown",
   "metadata": {
    "slideshow": {
     "slide_type": "subslide"
    }
   },
   "source": [
    "So we have now uncovered one of the peculiariaties of least-squares. Fitting `y` vs. `x` is *not* the same as fitting `x` vs. `y`."
   ]
  },
  {
   "cell_type": "markdown",
   "metadata": {
    "slideshow": {
     "slide_type": "slide"
    }
   },
   "source": [
    "There are a couple essential assumptions that go into standard least-squares fitting:\n",
    "\n",
    "1. There is one dimension along which the data have negligible uncertainties\n",
    "2. Along the other dimension **all** of the uncertainties can be described via Gaussians of known variance\n",
    "\n",
    "These two conditions are *rarely* met for astronomical data. While condition 1 can be satisfied (e.g., time series data where there is essentially no uncertainty on the time of the observations), I contend that condition 2 is rarely, if ever, satisfied."
   ]
  },
  {
   "cell_type": "markdown",
   "metadata": {
    "slideshow": {
     "slide_type": "subslide"
    }
   },
   "source": [
    "Speaking of uncertainties(1), we have not utilized any thus far. [I hope this has raised some warning bells.]\n",
    "\n",
    "We will now re-organize our data to match what is originally in Hogg, Bovy, & Lang (previously `x` and `y` were swapped).\n",
    "\n",
    "(1) There is an amazing footnote in Hogg, Bovy, & Lang about \"errors\" vs. \"uncertainties\" - I suggest everyone read this."
   ]
  },
  {
   "cell_type": "markdown",
   "metadata": {},
   "source": [
    "**Problem 2d**\n",
    "\n",
    "Re-plot the data including the uncertatines."
   ]
  },
  {
   "cell_type": "code",
   "execution_count": 9,
   "metadata": {
    "slideshow": {
     "slide_type": "subslide"
    }
   },
   "outputs": [
    {
     "data": {
      "text/plain": [
       "Text(0,0.5,'y')"
      ]
     },
     "execution_count": 9,
     "metadata": {},
     "output_type": "execute_result"
    },
    {
     "data": {
      "image/png": "[encoded data removed]",
      "text/plain": [
       "<Figure size 432x288 with 1 Axes>"
      ]
     },
     "metadata": {},
     "output_type": "display_data"
    }
   ],
   "source": [
    "x = np.array([203, 58, 210, 202, 198, 158, \n",
    "              165, 201, 157, 131, 166, 160, \n",
    "              186, 125, 218, 146])\n",
    "y = np.array([495, 173, 479, 504, 510, 416, \n",
    "              393, 442, 317, 311, 400, 337, \n",
    "              423, 334, 533, 344])\n",
    "sigma_y = np.array([21, 15, 27, 14, 30, 16, \n",
    "                    14, 25, 52, 16, 34, 31, \n",
    "                    42, 26, 16, 22])\n",
    "\n",
    "plt.errorbar(x, y, yerr = sigma_y, fmt = 'o') # complete\n",
    "plt.xlabel('x')\n",
    "plt.ylabel('y')\n"
   ]
  },
  {
   "cell_type": "markdown",
   "metadata": {
    "slideshow": {
     "slide_type": "subslide"
    }
   },
   "source": [
    "We are now assuming that `x` has negligible uncertainties and that `y` has uncertainties that can be perfectly described by Gaussians of known variance."
   ]
  },
  {
   "cell_type": "markdown",
   "metadata": {
    "slideshow": {
     "slide_type": "slide"
    }
   },
   "source": [
    "A portion of the appeal of least-squares is that it provides a deterministic method for determining the best fit. To understand that we now need to do a little linear algebra.\n",
    "\n",
    "We can arrange the data in the following matricies:\n",
    "\n",
    "$$ \\mathbf{Y} = \\left[ {\\begin{array}{c}\n",
    "            y_1 \\\\\n",
    "            y_2 \\\\\n",
    "            \\dots \\\\\n",
    "            y_N\n",
    "            \\end{array}\n",
    "           }\n",
    "            \\right] , $$\n",
    "\n",
    "$$ \\mathbf{A} = \\left[ {\\begin{array}{cc}\n",
    "            1 & x_1 \\\\\n",
    "            1 & x_2 \\\\\n",
    "            \\dots & \\dots \\\\\n",
    "            1 & x_N\n",
    "            \\end{array}\n",
    "           }\n",
    "           \\right] ,\n",
    "           $$\n",
    "           \n",
    "$$ \\mathbf{C} = \\left[ {\\begin{array}{cccc}\n",
    "            \\sigma_{y_1}^2 & 0 & \\dots & 0 \\\\\n",
    "            0 & \\sigma_{y_2}^2 & \\dots & 0 \\\\\n",
    "            \\vdots & \\vdots & \\ddots & \\vdots \\\\\n",
    "            0 & 0 & \\dots & \\sigma_{y_1}^2 \\\\\n",
    "            \\end{array}\n",
    "           }\n",
    "           \\right] ,\n",
    "           $$\n",
    "           \n",
    "where $\\mathbf{Y}$ is a vector, and $\\mathbf{C}$ is the covariance matrix. "
   ]
  },
  {
   "cell_type": "markdown",
   "metadata": {
    "slideshow": {
     "slide_type": "subslide"
    }
   },
   "source": [
    "Ultimately, we need to solve the equation\n",
    "\n",
    "$$\\mathbf{Y} = \\mathbf{A}\\mathbf{X}.$$\n",
    "\n",
    "I am skipping the derivation, but the solution to this equations is:\n",
    "\n",
    "$$ \\left[ {\\begin{array}{c}\n",
    "            b \\\\\n",
    "            m \\\\\n",
    "            \\end{array}\n",
    "           }\n",
    "            \\right] = \\mathbf{X} = \\left[ \\mathbf{A}^T \\mathbf{C}^{-1} \\mathbf{A}\\right]^{-1} \\left[ \\mathbf{A}^T \\mathbf{C}^{-1} \\mathbf{Y}\\right].$$\n",
    "\n"
   ]
  },
  {
   "cell_type": "markdown",
   "metadata": {
    "slideshow": {
     "slide_type": "subslide"
    }
   },
   "source": [
    "As noted in Hogg, Bovy, & Lang, this procedure minimizes the $\\chi^2$ function, which is the total squared error, after appropriately scaling by the uncertainties:\n",
    "\n",
    "$$ \\chi^2 = \\Sigma_{i = 1}^{N} \\frac{[y_i - f(x_i)]^2}{\\sigma_{y_i}^2} = \\left[ \\mathbf{Y}  - \\mathbf{A}\\mathbf{X}\\right]^{T} \\mathbf{C}^{-1} \\left[ \\mathbf{Y} - \\mathbf{A} \\mathbf{X}\\right].$$"
   ]
  },
  {
   "cell_type": "markdown",
   "metadata": {
    "slideshow": {
     "slide_type": "slide"
    }
   },
   "source": [
    "**Problem 2e** \n",
    "\n",
    "Using the linear algebra equations above (i.e. avoid `np.polyfit` or any other similar functions), determine the weighted least-squares best-fit values for $b$ and $m$, the intercept and slope, respectively.\n",
    "\n",
    "Plot the results of the best-fit line. How does this compare to the above estimates?"
   ]
  },
  {
   "cell_type": "code",
   "execution_count": 10,
   "metadata": {},
   "outputs": [],
   "source": [
    "N = len(x)\n",
    "Y= np.zeros(N)\n",
    "X= np.zeros(N)\n",
    "A= np.ones((N,2))\n",
    "C= np.zeros((N, N))\n",
    "\n",
    "for i in range(N):\n",
    "    Y[i] = y[i]\n",
    "    X[i] = x[i]\n",
    "    A[i,1]= x[i]\n",
    "    C[i,i] = sigma_y[i]"
   ]
  },
  {
   "cell_type": "code",
   "execution_count": 11,
   "metadata": {
    "slideshow": {
     "slide_type": "subslide"
    }
   },
   "outputs": [
    {
     "name": "stdout",
     "output_type": "stream",
     "text": [
      "The best-fit value for the slope and intercept are: 2.2214 and 33.4505\n"
     ]
    },
    {
     "data": {
      "image/png": "[encoded data removed]",
      "text/plain": [
       "<Figure size 432x288 with 1 Axes>"
      ]
     },
     "metadata": {},
     "output_type": "display_data"
    }
   ],
   "source": [
    "from scipy import linalg\n",
    "\n",
    "_temp= np.dot(linalg.inv(C),Y.T)\n",
    "_temp = np.dot(A.T, np.dot(linalg.inv(C),Y.T))\n",
    "_tempupd= np.dot(linalg.inv(C),A)\n",
    "_tempupd = np.dot(A.T,np.dot(linalg.inv(C),A))\n",
    "_tempupd= linalg.inv(_tempupd)\n",
    "bestfit= np.dot(_tempupd,_temp)\n",
    "\n",
    "plt.errorbar(x, y, yerr = sigma_y, lw = 0.5, color = 'k', fmt = 'o') # complete\n",
    "plt.plot(x, x*bestfit[1]+ bestfit[0]) # complete\n",
    "plt.xlabel('x')\n",
    "plt.ylabel('y')\n",
    "print(\"The best-fit value for the slope and intercept are: {:.4f} and {:.4f}\".format(bestfit[1], bestfit[0])) # complete"
   ]
  },
  {
   "cell_type": "markdown",
   "metadata": {
    "slideshow": {
     "slide_type": "slide"
    }
   },
   "source": [
    "**Problem 2f**\n",
    "\n",
    "Confirm the results of this fit are the same as those from `np.polyfit`.\n",
    "\n",
    "*Hint - be sure to include the uncertainties.*"
   ]
  },
  {
   "cell_type": "code",
   "execution_count": 63,
   "metadata": {
    "slideshow": {
     "slide_type": "subslide"
    }
   },
   "outputs": [
    {
     "name": "stdout",
     "output_type": "stream",
     "text": [
      "The best-fit value for the slope and intercept are: 2.2167 and 28.8435\n"
     ]
    }
   ],
   "source": [
    "p = np.polyfit(x, y,1) # complete\n",
    "print(\"The best-fit value for the slope and intercept are: {:.4f} and {:.4f}\".format(p[0], p[1]))# complete"
   ]
  },
  {
   "cell_type": "markdown",
   "metadata": {
    "slideshow": {
     "slide_type": "slide"
    }
   },
   "source": [
    "## Problem 3) Are the Uncertainties Actually Gaussian?\n",
    "\n",
    "Previously we noted that there are two essential assumptions that are required for least-squares fitting to be correct. We are now going to examine the latter requirement, namely, that the uncertainties can be perfectly described as Gaussians with known variance."
   ]
  },
  {
   "cell_type": "markdown",
   "metadata": {
    "slideshow": {
     "slide_type": "subslide"
    }
   },
   "source": [
    "Earlier I stated this assumption is rarely satisfied. Why might this be the case? \n",
    "\n",
    "In my experience (meaning this is hardly universal), if it's astro, it's got systematics. While I cannot prove this, I contend that systematic uncertainties are rarely Gaussian. If you are lucky enough to be in a regime where you can be confident that the systematics are Gaussian, I further contend that it is extremely difficult to be certain that the variance of that Gaussian is known."
   ]
  },
  {
   "cell_type": "markdown",
   "metadata": {
    "slideshow": {
     "slide_type": "subslide"
    }
   },
   "source": [
    "Then there's another (astro-specific) challenge: in many circumstances, we aren't actually working with data, but rather with the results of other models applied to the data.\n",
    "\n",
    "Let's take an optical astronomy (biased, but this is LSST after all) example. What are the data? In many cases inference is being based on measurements of brightness, but the true data in this case is simply a bunch of electron counts in a CCD. The brightness (or mag) is based on the application of a model (e.g., PSF, aperture, Kron) that is applied to the data. Thus, to assume that a flux (or mag) measurement has Gaussian uncertainties with known variance is to assume that whatever flux-measurement model has been applied always produces perfectly Gaussian uncertainties (and a lot of different assumptions go into flux-measurement models...)"
   ]
  },
  {
   "cell_type": "markdown",
   "metadata": {
    "slideshow": {
     "slide_type": "subslide"
    }
   },
   "source": [
    "As a demonstration associated with the challenges of these assumptions, we will examine the data set presented in Hogg, Bovy, & Lang. "
   ]
  },
  {
   "cell_type": "code",
   "execution_count": 85,
   "metadata": {
    "collapsed": true,
    "slideshow": {
     "slide_type": "subslide"
    }
   },
   "outputs": [],
   "source": [
    "x = np.array([201, 201, 287, 166,  58, 157, 146, 218, 203, 186, 160,  47, 210,\n",
    "       131, 202, 125, 158, 198, 165, 244])\n",
    "y = np.array([592, 442, 402, 400, 173, 317, 344, 533, 495, 423, 337, 583, 479,\n",
    "       311, 504, 334, 416, 510, 393, 401])\n",
    "sigma_y = np.array([61, 25, 15, 34, 15, 52, 22, 16, 21, 42, 31, 38, 27, 16, 14, 26, 16,\n",
    "       30, 14, 25])"
   ]
  },
  {
   "cell_type": "markdown",
   "metadata": {
    "slideshow": {
     "slide_type": "slide"
    }
   },
   "source": [
    "**Problem 3a**\n",
    "\n",
    "Using the least-squares methodology developed in Problem 2, determine the best-fit slope and intercept for a line fit to the data above. \n",
    "\n",
    "Make a scatter plot of the data, and overplot the best-fit line. What if anything, do you notice about the data and the fit?"
   ]
  },
  {
   "cell_type": "code",
   "execution_count": 118,
   "metadata": {
    "slideshow": {
     "slide_type": "subslide"
    }
   },
   "outputs": [
    {
     "data": {
      "application/javascript": [
       "/* Put everything inside the global mpl namespace */\n",
       "window.mpl = {};\n",
       "\n",
       "\n",
       "mpl.get_websocket_type = function() {\n",
       "    if (typeof(WebSocket) !== 'undefined') {\n",
       "        return WebSocket;\n",
       "    } else if (typeof(MozWebSocket) !== 'undefined') {\n",
       "        return MozWebSocket;\n",
       "    } else {\n",
       "        alert('Your browser does not have WebSocket support.' +\n",
       "              'Please try Chrome, Safari or Firefox ≥ 6. ' +\n",
       "              'Firefox 4 and 5 are also supported but you ' +\n",
       "              'have to enable WebSockets in about:config.');\n",
       "    };\n",
       "}\n",
       "\n",
       "mpl.figure = function(figure_id, websocket, ondownload, parent_element) {\n",
       "    this.id = figure_id;\n",
       "\n",
       "    this.ws = websocket;\n",
       "\n",
       "    this.supports_binary = (this.ws.binaryType != undefined);\n",
       "\n",
       "    if (!this.supports_binary) {\n",
       "        var warnings = document.getElementById(\"mpl-warnings\");\n",
       "        if (warnings) {\n",
       "            warnings.style.display = 'block';\n",
       "            warnings.textContent = (\n",
       "                \"This browser does not support binary websocket messages. \" +\n",
       "                    \"Performance may be slow.\");\n",
       "        }\n",
       "    }\n",
       "\n",
       "    this.imageObj = new Image();\n",
       "\n",
       "    this.context = undefined;\n",
       "    this.message = undefined;\n",
       "    this.canvas = undefined;\n",
       "    this.rubberband_canvas = undefined;\n",
       "    this.rubberband_context = undefined;\n",
       "    this.format_dropdown = undefined;\n",
       "\n",
       "    this.image_mode = 'full';\n",
       "\n",
       "    this.root = $('<div/>');\n",
       "    this._root_extra_style(this.root)\n",
       "    this.root.attr('style', 'display: inline-block');\n",
       "\n",
       "    $(parent_element).append(this.root);\n",
       "\n",
       "    this._init_header(this);\n",
       "    this._init_canvas(this);\n",
       "    this._init_toolbar(this);\n",
       "\n",
       "    var fig = this;\n",
       "\n",
       "    this.waiting = false;\n",
       "\n",
       "    this.ws.onopen =  function () {\n",
       "            fig.send_message(\"supports_binary\", {value: fig.supports_binary});\n",
       "            fig.send_message(\"send_image_mode\", {});\n",
       "            if (mpl.ratio != 1) {\n",
       "                fig.send_message(\"set_dpi_ratio\", {'dpi_ratio': mpl.ratio});\n",
       "            }\n",
       "            fig.send_message(\"refresh\", {});\n",
       "        }\n",
       "\n",
       "    this.imageObj.onload = function() {\n",
       "            if (fig.image_mode == 'full') {\n",
       "                // Full images could contain transparency (where diff images\n",
       "                // almost always do), so we need to clear the canvas so that\n",
       "                // there is no ghosting.\n",
       "                fig.context.clearRect(0, 0, fig.canvas.width, fig.canvas.height);\n",
       "            }\n",
       "            fig.context.drawImage(fig.imageObj, 0, 0);\n",
       "        };\n",
       "\n",
       "    this.imageObj.onunload = function() {\n",
       "        this.ws.close();\n",
       "    }\n",
       "\n",
       "    this.ws.onmessage = this._make_on_message_function(this);\n",
       "\n",
       "    this.ondownload = ondownload;\n",
       "}\n",
       "\n",
       "mpl.figure.prototype._init_header = function() {\n",
       "    var titlebar = $(\n",
       "        '<div class=\"ui-dialog-titlebar ui-widget-header ui-corner-all ' +\n",
       "        'ui-helper-clearfix\"/>');\n",
       "    var titletext = $(\n",
       "        '<div class=\"ui-dialog-title\" style=\"width: 100%; ' +\n",
       "        'text-align: center; padding: 3px;\"/>');\n",
       "    titlebar.append(titletext)\n",
       "    this.root.append(titlebar);\n",
       "    this.header = titletext[0];\n",
       "}\n",
       "\n",
       "\n",
       "\n",
       "mpl.figure.prototype._canvas_extra_style = function(canvas_div) {\n",
       "\n",
       "}\n",
       "\n",
       "\n",
       "mpl.figure.prototype._root_extra_style = function(canvas_div) {\n",
       "\n",
       "}\n",
       "\n",
       "mpl.figure.prototype._init_canvas = function() {\n",
       "    var fig = this;\n",
       "\n",
       "    var canvas_div = $('<div/>');\n",
       "\n",
       "    canvas_div.attr('style', 'position: relative; clear: both; outline: 0');\n",
       "\n",
       "    function canvas_keyboard_event(event) {\n",
       "        return fig.key_event(event, event['data']);\n",
       "    }\n",
       "\n",
       "    canvas_div.keydown('key_press', canvas_keyboard_event);\n",
       "    canvas_div.keyup('key_release', canvas_keyboard_event);\n",
       "    this.canvas_div = canvas_div\n",
       "    this._canvas_extra_style(canvas_div)\n",
       "    this.root.append(canvas_div);\n",
       "\n",
       "    var canvas = $('<canvas/>');\n",
       "    canvas.addClass('mpl-canvas');\n",
       "    canvas.attr('style', \"left: 0; top: 0; z-index: 0; outline: 0\")\n",
       "\n",
       "    this.canvas = canvas[0];\n",
       "    this.context = canvas[0].getContext(\"2d\");\n",
       "\n",
       "    var backingStore = this.context.backingStorePixelRatio ||\n",
       "\tthis.context.webkitBackingStorePixelRatio ||\n",
       "\tthis.context.mozBackingStorePixelRatio ||\n",
       "\tthis.context.msBackingStorePixelRatio ||\n",
       "\tthis.context.oBackingStorePixelRatio ||\n",
       "\tthis.context.backingStorePixelRatio || 1;\n",
       "\n",
       "    mpl.ratio = (window.devicePixelRatio || 1) / backingStore;\n",
       "\n",
       "    var rubberband = $('<canvas/>');\n",
       "    rubberband.attr('style', \"position: absolute; left: 0; top: 0; z-index: 1;\")\n",
       "\n",
       "    var pass_mouse_events = true;\n",
       "\n",
       "    canvas_div.resizable({\n",
       "        start: function(event, ui) {\n",
       "            pass_mouse_events = false;\n",
       "        },\n",
       "        resize: function(event, ui) {\n",
       "            fig.request_resize(ui.size.width, ui.size.height);\n",
       "        },\n",
       "        stop: function(event, ui) {\n",
       "            pass_mouse_events = true;\n",
       "            fig.request_resize(ui.size.width, ui.size.height);\n",
       "        },\n",
       "    });\n",
       "\n",
       "    function mouse_event_fn(event) {\n",
       "        if (pass_mouse_events)\n",
       "            return fig.mouse_event(event, event['data']);\n",
       "    }\n",
       "\n",
       "    rubberband.mousedown('button_press', mouse_event_fn);\n",
       "    rubberband.mouseup('button_release', mouse_event_fn);\n",
       "    // Throttle sequential mouse events to 1 every 20ms.\n",
       "    rubberband.mousemove('motion_notify', mouse_event_fn);\n",
       "\n",
       "    rubberband.mouseenter('figure_enter', mouse_event_fn);\n",
       "    rubberband.mouseleave('figure_leave', mouse_event_fn);\n",
       "\n",
       "    canvas_div.on(\"wheel\", function (event) {\n",
       "        event = event.originalEvent;\n",
       "        event['data'] = 'scroll'\n",
       "        if (event.deltaY < 0) {\n",
       "            event.step = 1;\n",
       "        } else {\n",
       "            event.step = -1;\n",
       "        }\n",
       "        mouse_event_fn(event);\n",
       "    });\n",
       "\n",
       "    canvas_div.append(canvas);\n",
       "    canvas_div.append(rubberband);\n",
       "\n",
       "    this.rubberband = rubberband;\n",
       "    this.rubberband_canvas = rubberband[0];\n",
       "    this.rubberband_context = rubberband[0].getContext(\"2d\");\n",
       "    this.rubberband_context.strokeStyle = \"#000000\";\n",
       "\n",
       "    this._resize_canvas = function(width, height) {\n",
       "        // Keep the size of the canvas, canvas container, and rubber band\n",
       "        // canvas in synch.\n",
       "        canvas_div.css('width', width)\n",
       "        canvas_div.css('height', height)\n",
       "\n",
       "        canvas.attr('width', width * mpl.ratio);\n",
       "        canvas.attr('height', height * mpl.ratio);\n",
       "        canvas.attr('style', 'width: ' + width + 'px; height: ' + height + 'px;');\n",
       "\n",
       "        rubberband.attr('width', width);\n",
       "        rubberband.attr('height', height);\n",
       "    }\n",
       "\n",
       "    // Set the figure to an initial 600x600px, this will subsequently be updated\n",
       "    // upon first draw.\n",
       "    this._resize_canvas(600, 600);\n",
       "\n",
       "    // Disable right mouse context menu.\n",
       "    $(this.rubberband_canvas).bind(\"contextmenu\",function(e){\n",
       "        return false;\n",
       "    });\n",
       "\n",
       "    function set_focus () {\n",
       "        canvas.focus();\n",
       "        canvas_div.focus();\n",
       "    }\n",
       "\n",
       "    window.setTimeout(set_focus, 100);\n",
       "}\n",
       "\n",
       "mpl.figure.prototype._init_toolbar = function() {\n",
       "    var fig = this;\n",
       "\n",
       "    var nav_element = $('<div/>')\n",
       "    nav_element.attr('style', 'width: 100%');\n",
       "    this.root.append(nav_element);\n",
       "\n",
       "    // Define a callback function for later on.\n",
       "    function toolbar_event(event) {\n",
       "        return fig.toolbar_button_onclick(event['data']);\n",
       "    }\n",
       "    function toolbar_mouse_event(event) {\n",
       "        return fig.toolbar_button_onmouseover(event['data']);\n",
       "    }\n",
       "\n",
       "    for(var toolbar_ind in mpl.toolbar_items) {\n",
       "        var name = mpl.toolbar_items[toolbar_ind][0];\n",
       "        var tooltip = mpl.toolbar_items[toolbar_ind][1];\n",
       "        var image = mpl.toolbar_items[toolbar_ind][2];\n",
       "        var method_name = mpl.toolbar_items[toolbar_ind][3];\n",
       "\n",
       "        if (!name) {\n",
       "            // put a spacer in here.\n",
       "            continue;\n",
       "        }\n",
       "        var button = $('<button/>');\n",
       "        button.addClass('ui-button ui-widget ui-state-default ui-corner-all ' +\n",
       "                        'ui-button-icon-only');\n",
       "        button.attr('role', 'button');\n",
       "        button.attr('aria-disabled', 'false');\n",
       "        button.click(method_name, toolbar_event);\n",
       "        button.mouseover(tooltip, toolbar_mouse_event);\n",
       "\n",
       "        var icon_img = $('<span/>');\n",
       "        icon_img.addClass('ui-button-icon-primary ui-icon');\n",
       "        icon_img.addClass(image);\n",
       "        icon_img.addClass('ui-corner-all');\n",
       "\n",
       "        var tooltip_span = $('<span/>');\n",
       "        tooltip_span.addClass('ui-button-text');\n",
       "        tooltip_span.html(tooltip);\n",
       "\n",
       "        button.append(icon_img);\n",
       "        button.append(tooltip_span);\n",
       "\n",
       "        nav_element.append(button);\n",
       "    }\n",
       "\n",
       "    var fmt_picker_span = $('<span/>');\n",
       "\n",
       "    var fmt_picker = $('<select/>');\n",
       "    fmt_picker.addClass('mpl-toolbar-option ui-widget ui-widget-content');\n",
       "    fmt_picker_span.append(fmt_picker);\n",
       "    nav_element.append(fmt_picker_span);\n",
       "    this.format_dropdown = fmt_picker[0];\n",
       "\n",
       "    for (var ind in mpl.extensions) {\n",
       "        var fmt = mpl.extensions[ind];\n",
       "        var option = $(\n",
       "            '<option/>', {selected: fmt === mpl.default_extension}).html(fmt);\n",
       "        fmt_picker.append(option)\n",
       "    }\n",
       "\n",
       "    // Add hover states to the ui-buttons\n",
       "    $( \".ui-button\" ).hover(\n",
       "        function() { $(this).addClass(\"ui-state-hover\");},\n",
       "        function() { $(this).removeClass(\"ui-state-hover\");}\n",
       "    );\n",
       "\n",
       "    var status_bar = $('<span class=\"mpl-message\"/>');\n",
       "    nav_element.append(status_bar);\n",
       "    this.message = status_bar[0];\n",
       "}\n",
       "\n",
       "mpl.figure.prototype.request_resize = function(x_pixels, y_pixels) {\n",
       "    // Request matplotlib to resize the figure. Matplotlib will then trigger a resize in the client,\n",
       "    // which will in turn request a refresh of the image.\n",
       "    this.send_message('resize', {'width': x_pixels, 'height': y_pixels});\n",
       "}\n",
       "\n",
       "mpl.figure.prototype.send_message = function(type, properties) {\n",
       "    properties['type'] = type;\n",
       "    properties['figure_id'] = this.id;\n",
       "    this.ws.send(JSON.stringify(properties));\n",
       "}\n",
       "\n",
       "mpl.figure.prototype.send_draw_message = function() {\n",
       "    if (!this.waiting) {\n",
       "        this.waiting = true;\n",
       "        this.ws.send(JSON.stringify({type: \"draw\", figure_id: this.id}));\n",
       "    }\n",
       "}\n",
       "\n",
       "\n",
       "mpl.figure.prototype.handle_save = function(fig, msg) {\n",
       "    var format_dropdown = fig.format_dropdown;\n",
       "    var format = format_dropdown.options[format_dropdown.selectedIndex].value;\n",
       "    fig.ondownload(fig, format);\n",
       "}\n",
       "\n",
       "\n",
       "mpl.figure.prototype.handle_resize = function(fig, msg) {\n",
       "    var size = msg['size'];\n",
       "    if (size[0] != fig.canvas.width || size[1] != fig.canvas.height) {\n",
       "        fig._resize_canvas(size[0], size[1]);\n",
       "        fig.send_message(\"refresh\", {});\n",
       "    };\n",
       "}\n",
       "\n",
       "mpl.figure.prototype.handle_rubberband = function(fig, msg) {\n",
       "    var x0 = msg['x0'] / mpl.ratio;\n",
       "    var y0 = (fig.canvas.height - msg['y0']) / mpl.ratio;\n",
       "    var x1 = msg['x1'] / mpl.ratio;\n",
       "    var y1 = (fig.canvas.height - msg['y1']) / mpl.ratio;\n",
       "    x0 = Math.floor(x0) + 0.5;\n",
       "    y0 = Math.floor(y0) + 0.5;\n",
       "    x1 = Math.floor(x1) + 0.5;\n",
       "    y1 = Math.floor(y1) + 0.5;\n",
       "    var min_x = Math.min(x0, x1);\n",
       "    var min_y = Math.min(y0, y1);\n",
       "    var width = Math.abs(x1 - x0);\n",
       "    var height = Math.abs(y1 - y0);\n",
       "\n",
       "    fig.rubberband_context.clearRect(\n",
       "        0, 0, fig.canvas.width, fig.canvas.height);\n",
       "\n",
       "    fig.rubberband_context.strokeRect(min_x, min_y, width, height);\n",
       "}\n",
       "\n",
       "mpl.figure.prototype.handle_figure_label = function(fig, msg) {\n",
       "    // Updates the figure title.\n",
       "    fig.header.textContent = msg['label'];\n",
       "}\n",
       "\n",
       "mpl.figure.prototype.handle_cursor = function(fig, msg) {\n",
       "    var cursor = msg['cursor'];\n",
       "    switch(cursor)\n",
       "    {\n",
       "    case 0:\n",
       "        cursor = 'pointer';\n",
       "        break;\n",
       "    case 1:\n",
       "        cursor = 'default';\n",
       "        break;\n",
       "    case 2:\n",
       "        cursor = 'crosshair';\n",
       "        break;\n",
       "    case 3:\n",
       "        cursor = 'move';\n",
       "        break;\n",
       "    }\n",
       "    fig.rubberband_canvas.style.cursor = cursor;\n",
       "}\n",
       "\n",
       "mpl.figure.prototype.handle_message = function(fig, msg) {\n",
       "    fig.message.textContent = msg['message'];\n",
       "}\n",
       "\n",
       "mpl.figure.prototype.handle_draw = function(fig, msg) {\n",
       "    // Request the server to send over a new figure.\n",
       "    fig.send_draw_message();\n",
       "}\n",
       "\n",
       "mpl.figure.prototype.handle_image_mode = function(fig, msg) {\n",
       "    fig.image_mode = msg['mode'];\n",
       "}\n",
       "\n",
       "mpl.figure.prototype.updated_canvas_event = function() {\n",
       "    // Called whenever the canvas gets updated.\n",
       "    this.send_message(\"ack\", {});\n",
       "}\n",
       "\n",
       "// A function to construct a web socket function for onmessage handling.\n",
       "// Called in the figure constructor.\n",
       "mpl.figure.prototype._make_on_message_function = function(fig) {\n",
       "    return function socket_on_message(evt) {\n",
       "        if (evt.data instanceof Blob) {\n",
       "            /* FIXME: We get \"Resource interpreted as Image but\n",
       "             * transferred with MIME type text/plain:\" errors on\n",
       "             * Chrome.  But how to set the MIME type?  It doesn't seem\n",
       "             * to be part of the websocket stream */\n",
       "            evt.data.type = \"image/png\";\n",
       "\n",
       "            /* Free the memory for the previous frames */\n",
       "            if (fig.imageObj.src) {\n",
       "                (window.URL || window.webkitURL).revokeObjectURL(\n",
       "                    fig.imageObj.src);\n",
       "            }\n",
       "\n",
       "            fig.imageObj.src = (window.URL || window.webkitURL).createObjectURL(\n",
       "                evt.data);\n",
       "            fig.updated_canvas_event();\n",
       "            fig.waiting = false;\n",
       "            return;\n",
       "        }\n",
       "        else if (typeof evt.data === 'string' && evt.data.slice(0, 21) == \"data:image/png;base64\") {\n",
       "            fig.imageObj.src = evt.data;\n",
       "            fig.updated_canvas_event();\n",
       "            fig.waiting = false;\n",
       "            return;\n",
       "        }\n",
       "\n",
       "        var msg = JSON.parse(evt.data);\n",
       "        var msg_type = msg['type'];\n",
       "\n",
       "        // Call the  \"handle_{type}\" callback, which takes\n",
       "        // the figure and JSON message as its only arguments.\n",
       "        try {\n",
       "            var callback = fig[\"handle_\" + msg_type];\n",
       "        } catch (e) {\n",
       "            console.log(\"No handler for the '\" + msg_type + \"' message type: \", msg);\n",
       "            return;\n",
       "        }\n",
       "\n",
       "        if (callback) {\n",
       "            try {\n",
       "                // console.log(\"Handling '\" + msg_type + \"' message: \", msg);\n",
       "                callback(fig, msg);\n",
       "            } catch (e) {\n",
       "                console.log(\"Exception inside the 'handler_\" + msg_type + \"' callback:\", e, e.stack, msg);\n",
       "            }\n",
       "        }\n",
       "    };\n",
       "}\n",
       "\n",
       "// from http://stackoverflow.com/questions/1114465/getting-mouse-location-in-canvas\n",
       "mpl.findpos = function(e) {\n",
       "    //this section is from http://www.quirksmode.org/js/events_properties.html\n",
       "    var targ;\n",
       "    if (!e)\n",
       "        e = window.event;\n",
       "    if (e.target)\n",
       "        targ = e.target;\n",
       "    else if (e.srcElement)\n",
       "        targ = e.srcElement;\n",
       "    if (targ.nodeType == 3) // defeat Safari bug\n",
       "        targ = targ.parentNode;\n",
       "\n",
       "    // jQuery normalizes the pageX and pageY\n",
       "    // pageX,Y are the mouse positions relative to the document\n",
       "    // offset() returns the position of the element relative to the document\n",
       "    var x = e.pageX - $(targ).offset().left;\n",
       "    var y = e.pageY - $(targ).offset().top;\n",
       "\n",
       "    return {\"x\": x, \"y\": y};\n",
       "};\n",
       "\n",
       "/*\n",
       " * return a copy of an object with only non-object keys\n",
       " * we need this to avoid circular references\n",
       " * http://stackoverflow.com/a/24161582/3208463\n",
       " */\n",
       "function simpleKeys (original) {\n",
       "  return Object.keys(original).reduce(function (obj, key) {\n",
       "    if (typeof original[key] !== 'object')\n",
       "        obj[key] = original[key]\n",
       "    return obj;\n",
       "  }, {});\n",
       "}\n",
       "\n",
       "mpl.figure.prototype.mouse_event = function(event, name) {\n",
       "    var canvas_pos = mpl.findpos(event)\n",
       "\n",
       "    if (name === 'button_press')\n",
       "    {\n",
       "        this.canvas.focus();\n",
       "        this.canvas_div.focus();\n",
       "    }\n",
       "\n",
       "    var x = canvas_pos.x * mpl.ratio;\n",
       "    var y = canvas_pos.y * mpl.ratio;\n",
       "\n",
       "    this.send_message(name, {x: x, y: y, button: event.button,\n",
       "                             step: event.step,\n",
       "                             guiEvent: simpleKeys(event)});\n",
       "\n",
       "    /* This prevents the web browser from automatically changing to\n",
       "     * the text insertion cursor when the button is pressed.  We want\n",
       "     * to control all of the cursor setting manually through the\n",
       "     * 'cursor' event from matplotlib */\n",
       "    event.preventDefault();\n",
       "    return false;\n",
       "}\n",
       "\n",
       "mpl.figure.prototype._key_event_extra = function(event, name) {\n",
       "    // Handle any extra behaviour associated with a key event\n",
       "}\n",
       "\n",
       "mpl.figure.prototype.key_event = function(event, name) {\n",
       "\n",
       "    // Prevent repeat events\n",
       "    if (name == 'key_press')\n",
       "    {\n",
       "        if (event.which === this._key)\n",
       "            return;\n",
       "        else\n",
       "            this._key = event.which;\n",
       "    }\n",
       "    if (name == 'key_release')\n",
       "        this._key = null;\n",
       "\n",
       "    var value = '';\n",
       "    if (event.ctrlKey && event.which != 17)\n",
       "        value += \"ctrl+\";\n",
       "    if (event.altKey && event.which != 18)\n",
       "        value += \"alt+\";\n",
       "    if (event.shiftKey && event.which != 16)\n",
       "        value += \"shift+\";\n",
       "\n",
       "    value += 'k';\n",
       "    value += event.which.toString();\n",
       "\n",
       "    this._key_event_extra(event, name);\n",
       "\n",
       "    this.send_message(name, {key: value,\n",
       "                             guiEvent: simpleKeys(event)});\n",
       "    return false;\n",
       "}\n",
       "\n",
       "mpl.figure.prototype.toolbar_button_onclick = function(name) {\n",
       "    if (name == 'download') {\n",
       "        this.handle_save(this, null);\n",
       "    } else {\n",
       "        this.send_message(\"toolbar_button\", {name: name});\n",
       "    }\n",
       "};\n",
       "\n",
       "mpl.figure.prototype.toolbar_button_onmouseover = function(tooltip) {\n",
       "    this.message.textContent = tooltip;\n",
       "};\n",
       "mpl.toolbar_items = [[\"Home\", \"Reset original view\", \"fa fa-home icon-home\", \"home\"], [\"Back\", \"Back to  previous view\", \"fa fa-arrow-left icon-arrow-left\", \"back\"], [\"Forward\", \"Forward to next view\", \"fa fa-arrow-right icon-arrow-right\", \"forward\"], [\"\", \"\", \"\", \"\"], [\"Pan\", \"Pan axes with left mouse, zoom with right\", \"fa fa-arrows icon-move\", \"pan\"], [\"Zoom\", \"Zoom to rectangle\", \"fa fa-square-o icon-check-empty\", \"zoom\"], [\"\", \"\", \"\", \"\"], [\"Download\", \"Download plot\", \"fa fa-floppy-o icon-save\", \"download\"]];\n",
       "\n",
       "mpl.extensions = [\"eps\", \"pdf\", \"png\", \"ps\", \"raw\", \"svg\"];\n",
       "\n",
       "mpl.default_extension = \"png\";var comm_websocket_adapter = function(comm) {\n",
       "    // Create a \"websocket\"-like object which calls the given IPython comm\n",
       "    // object with the appropriate methods. Currently this is a non binary\n",
       "    // socket, so there is still some room for performance tuning.\n",
       "    var ws = {};\n",
       "\n",
       "    ws.close = function() {\n",
       "        comm.close()\n",
       "    };\n",
       "    ws.send = function(m) {\n",
       "        //console.log('sending', m);\n",
       "        comm.send(m);\n",
       "    };\n",
       "    // Register the callback with on_msg.\n",
       "    comm.on_msg(function(msg) {\n",
       "        //console.log('receiving', msg['content']['data'], msg);\n",
       "        // Pass the mpl event to the overriden (by mpl) onmessage function.\n",
       "        ws.onmessage(msg['content']['data'])\n",
       "    });\n",
       "    return ws;\n",
       "}\n",
       "\n",
       "mpl.mpl_figure_comm = function(comm, msg) {\n",
       "    // This is the function which gets called when the mpl process\n",
       "    // starts-up an IPython Comm through the \"matplotlib\" channel.\n",
       "\n",
       "    var id = msg.content.data.id;\n",
       "    // Get hold of the div created by the display call when the Comm\n",
       "    // socket was opened in Python.\n",
       "    var element = $(\"#\" + id);\n",
       "    var ws_proxy = comm_websocket_adapter(comm)\n",
       "\n",
       "    function ondownload(figure, format) {\n",
       "        window.open(figure.imageObj.src);\n",
       "    }\n",
       "\n",
       "    var fig = new mpl.figure(id, ws_proxy,\n",
       "                           ondownload,\n",
       "                           element.get(0));\n",
       "\n",
       "    // Call onopen now - mpl needs it, as it is assuming we've passed it a real\n",
       "    // web socket which is closed, not our websocket->open comm proxy.\n",
       "    ws_proxy.onopen();\n",
       "\n",
       "    fig.parent_element = element.get(0);\n",
       "    fig.cell_info = mpl.find_output_cell(\"<div id='\" + id + \"'></div>\");\n",
       "    if (!fig.cell_info) {\n",
       "        console.error(\"Failed to find cell for figure\", id, fig);\n",
       "        return;\n",
       "    }\n",
       "\n",
       "    var output_index = fig.cell_info[2]\n",
       "    var cell = fig.cell_info[0];\n",
       "\n",
       "};\n",
       "\n",
       "mpl.figure.prototype.handle_close = function(fig, msg) {\n",
       "    var width = fig.canvas.width/mpl.ratio\n",
       "    fig.root.unbind('remove')\n",
       "\n",
       "    // Update the output cell to use the data from the current canvas.\n",
       "    fig.push_to_output();\n",
       "    var dataURL = fig.canvas.toDataURL();\n",
       "    // Re-enable the keyboard manager in IPython - without this line, in FF,\n",
       "    // the notebook keyboard shortcuts fail.\n",
       "    IPython.keyboard_manager.enable()\n",
       "    $(fig.parent_element).html('<img src=\"' + dataURL + '\" width=\"' + width + '\">');\n",
       "    fig.close_ws(fig, msg);\n",
       "}\n",
       "\n",
       "mpl.figure.prototype.close_ws = function(fig, msg){\n",
       "    fig.send_message('closing', msg);\n",
       "    // fig.ws.close()\n",
       "}\n",
       "\n",
       "mpl.figure.prototype.push_to_output = function(remove_interactive) {\n",
       "    // Turn the data on the canvas into data in the output cell.\n",
       "    var width = this.canvas.width/mpl.ratio\n",
       "    var dataURL = this.canvas.toDataURL();\n",
       "    this.cell_info[1]['text/html'] = '<img src=\"' + dataURL + '\" width=\"' + width + '\">';\n",
       "}\n",
       "\n",
       "mpl.figure.prototype.updated_canvas_event = function() {\n",
       "    // Tell IPython that the notebook contents must change.\n",
       "    IPython.notebook.set_dirty(true);\n",
       "    this.send_message(\"ack\", {});\n",
       "    var fig = this;\n",
       "    // Wait a second, then push the new image to the DOM so\n",
       "    // that it is saved nicely (might be nice to debounce this).\n",
       "    setTimeout(function () { fig.push_to_output() }, 1000);\n",
       "}\n",
       "\n",
       "mpl.figure.prototype._init_toolbar = function() {\n",
       "    var fig = this;\n",
       "\n",
       "    var nav_element = $('<div/>')\n",
       "    nav_element.attr('style', 'width: 100%');\n",
       "    this.root.append(nav_element);\n",
       "\n",
       "    // Define a callback function for later on.\n",
       "    function toolbar_event(event) {\n",
       "        return fig.toolbar_button_onclick(event['data']);\n",
       "    }\n",
       "    function toolbar_mouse_event(event) {\n",
       "        return fig.toolbar_button_onmouseover(event['data']);\n",
       "    }\n",
       "\n",
       "    for(var toolbar_ind in mpl.toolbar_items){\n",
       "        var name = mpl.toolbar_items[toolbar_ind][0];\n",
       "        var tooltip = mpl.toolbar_items[toolbar_ind][1];\n",
       "        var image = mpl.toolbar_items[toolbar_ind][2];\n",
       "        var method_name = mpl.toolbar_items[toolbar_ind][3];\n",
       "\n",
       "        if (!name) { continue; };\n",
       "\n",
       "        var button = $('<button class=\"btn btn-default\" href=\"#\" title=\"' + name + '\"><i class=\"fa ' + image + ' fa-lg\"></i></button>');\n",
       "        button.click(method_name, toolbar_event);\n",
       "        button.mouseover(tooltip, toolbar_mouse_event);\n",
       "        nav_element.append(button);\n",
       "    }\n",
       "\n",
       "    // Add the status bar.\n",
       "    var status_bar = $('<span class=\"mpl-message\" style=\"text-align:right; float: right;\"/>');\n",
       "    nav_element.append(status_bar);\n",
       "    this.message = status_bar[0];\n",
       "\n",
       "    // Add the close button to the window.\n",
       "    var buttongrp = $('<div class=\"btn-group inline pull-right\"></div>');\n",
       "    var button = $('<button class=\"btn btn-mini btn-primary\" href=\"#\" title=\"Stop Interaction\"><i class=\"fa fa-power-off icon-remove icon-large\"></i></button>');\n",
       "    button.click(function (evt) { fig.handle_close(fig, {}); } );\n",
       "    button.mouseover('Stop Interaction', toolbar_mouse_event);\n",
       "    buttongrp.append(button);\n",
       "    var titlebar = this.root.find($('.ui-dialog-titlebar'));\n",
       "    titlebar.prepend(buttongrp);\n",
       "}\n",
       "\n",
       "mpl.figure.prototype._root_extra_style = function(el){\n",
       "    var fig = this\n",
       "    el.on(\"remove\", function(){\n",
       "\tfig.close_ws(fig, {});\n",
       "    });\n",
       "}\n",
       "\n",
       "mpl.figure.prototype._canvas_extra_style = function(el){\n",
       "    // this is important to make the div 'focusable\n",
       "    el.attr('tabindex', 0)\n",
       "    // reach out to IPython and tell the keyboard manager to turn it's self\n",
       "    // off when our div gets focus\n",
       "\n",
       "    // location in version 3\n",
       "    if (IPython.notebook.keyboard_manager) {\n",
       "        IPython.notebook.keyboard_manager.register_events(el);\n",
       "    }\n",
       "    else {\n",
       "        // location in version 2\n",
       "        IPython.keyboard_manager.register_events(el);\n",
       "    }\n",
       "\n",
       "}\n",
       "\n",
       "mpl.figure.prototype._key_event_extra = function(event, name) {\n",
       "    var manager = IPython.notebook.keyboard_manager;\n",
       "    if (!manager)\n",
       "        manager = IPython.keyboard_manager;\n",
       "\n",
       "    // Check for shift+enter\n",
       "    if (event.shiftKey && event.which == 13) {\n",
       "        this.canvas_div.blur();\n",
       "        // select the cell after this one\n",
       "        var index = IPython.notebook.find_cell_index(this.cell_info[0]);\n",
       "        IPython.notebook.select(index + 1);\n",
       "    }\n",
       "}\n",
       "\n",
       "mpl.figure.prototype.handle_save = function(fig, msg) {\n",
       "    fig.ondownload(fig, null);\n",
       "}\n",
       "\n",
       "\n",
       "mpl.find_output_cell = function(html_output) {\n",
       "    // Return the cell and output element which can be found *uniquely* in the notebook.\n",
       "    // Note - this is a bit hacky, but it is done because the \"notebook_saving.Notebook\"\n",
       "    // IPython event is triggered only after the cells have been serialised, which for\n",
       "    // our purposes (turning an active figure into a static one), is too late.\n",
       "    var cells = IPython.notebook.get_cells();\n",
       "    var ncells = cells.length;\n",
       "    for (var i=0; i<ncells; i++) {\n",
       "        var cell = cells[i];\n",
       "        if (cell.cell_type === 'code'){\n",
       "            for (var j=0; j<cell.output_area.outputs.length; j++) {\n",
       "                var data = cell.output_area.outputs[j];\n",
       "                if (data.data) {\n",
       "                    // IPython >= 3 moved mimebundle to data attribute of output\n",
       "                    data = data.data;\n",
       "                }\n",
       "                if (data['text/html'] == html_output) {\n",
       "                    return [cell, data, j];\n",
       "                }\n",
       "            }\n",
       "        }\n",
       "    }\n",
       "}\n",
       "\n",
       "// Register the function which deals with the matplotlib target/channel.\n",
       "// The kernel may be null if the page has been refreshed.\n",
       "if (IPython.notebook.kernel != null) {\n",
       "    IPython.notebook.kernel.comm_manager.register_target('matplotlib', mpl.mpl_figure_comm);\n",
       "}\n"
      ],
      "text/plain": [
       "<IPython.core.display.Javascript object>"
      ]
     },
     "metadata": {},
     "output_type": "display_data"
    },
    {
     "data": {
      "text/html": [
       "<img src=\"data:image/png;base64,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\" width=\"640\">"
      ],
      "text/plain": [
       "<IPython.core.display.HTML object>"
      ]
     },
     "metadata": {},
     "output_type": "display_data"
    },
    {
     "name": "stdout",
     "output_type": "stream",
     "text": [
      "The best-fit value for the slope and intercept are: 0.8966 and 252.4720\n"
     ]
    },
    {
     "data": {
      "text/plain": [
       "array([ 252.47202852,    0.8965819 ])"
      ]
     },
     "execution_count": 118,
     "metadata": {},
     "output_type": "execute_result"
    }
   ],
   "source": [
    "N = len(x)\n",
    "Y= np.zeros(N)\n",
    "X= np.zeros(N)\n",
    "A= np.ones((N,2))\n",
    "C= np.zeros((N, N))\n",
    "\n",
    "for i in range(N):\n",
    "    Y[i] = y[i]\n",
    "    X[i] = x[i]\n",
    "    A[i,1]= x[i]\n",
    "    C[i,i] = sigma_y[i]\n",
    "\n",
    "from scipy import linalg\n",
    "\n",
    "_temp= np.dot(linalg.inv(C),Y.T)\n",
    "_temp = np.dot(A.T, np.dot(linalg.inv(C),Y.T))\n",
    "_tempupd= np.dot(linalg.inv(C),A)\n",
    "_tempupd = np.dot(A.T,np.dot(linalg.inv(C),A))\n",
    "_tempupd= linalg.inv(_tempupd)\n",
    "bestfit= np.dot(_tempupd,_temp)\n",
    "\n",
    "plt.errorbar(x, y, yerr = sigma_y, lw = 0.5, color = 'k', fmt = 'o') # complete\n",
    "plt.plot(x, x*bestfit[1]+ bestfit[0]) # complete\n",
    "plt.xlabel('x')\n",
    "plt.ylabel('y')\n",
    "\n",
    "print(\"The best-fit value for the slope and intercept are: {:.4f} and {:.4f}\".format(bestfit[1], bestfit[0])) \n",
    "bestfit# complete"
   ]
  },
  {
   "cell_type": "markdown",
   "metadata": {
    "slideshow": {
     "slide_type": "subslide"
    }
   },
   "source": [
    "Unlike the data in Problems 1 and 2, there appear to be some significant outliers (of course - this appearance of outliers is entirely dependent upon the assumption of linearity, there may actually be no outliers and a complex relation between `x` and `y`). As such, it does not appear (to me) as though the best-fit line provides a good model for the data."
   ]
  },
  {
   "cell_type": "markdown",
   "metadata": {
    "slideshow": {
     "slide_type": "slide"
    }
   },
   "source": [
    "**Problem 3b**\n",
    "\n",
    "Perform a least-squares 2nd order polynomial fit to the data. Overplot the bestfit curve.\n",
    "\n",
    "How does this compare to the linear model fit?"
   ]
  },
  {
   "cell_type": "code",
   "execution_count": 108,
   "metadata": {},
   "outputs": [
    {
     "data": {
      "text/plain": [
       "array([  1.48583085e+02,   2.33088786e+00,  -4.33249974e-03])"
      ]
     },
     "execution_count": 108,
     "metadata": {},
     "output_type": "execute_result"
    }
   ],
   "source": [
    "N = len(x)\n",
    "Y= np.zeros(N)\n",
    "X= np.zeros(N)\n",
    "A= np.ones((N,3))\n",
    "C= np.zeros((N, N))\n",
    "\n",
    "for i in range(N):\n",
    "    Y[i] = y[i]\n",
    "    X[i] = x[i]\n",
    "    A[i,1]= x[i]\n",
    "    A[i, 2] = x[i]**2\n",
    "    C[i,i] = sigma_y[i]\n",
    "\n",
    "from scipy import linalg\n",
    "\n",
    "A\n",
    "_temp= np.dot(linalg.inv(C),Y.T)\n",
    "_temp = np.dot(A.T, np.dot(linalg.inv(C),Y.T))\n",
    "_tempupd= np.dot(linalg.inv(C),A)\n",
    "_tempupd = np.dot(A.T,np.dot(linalg.inv(C),A))\n",
    "_tempupd= linalg.inv(_tempupd)\n",
    "bestfit= np.dot(_tempupd,_temp)\n",
    "\n",
    "bestfit"
   ]
  },
  {
   "cell_type": "code",
   "execution_count": 74,
   "metadata": {},
   "outputs": [
    {
     "data": {
      "text/plain": [
       "array([[  1.00000000e+00,   2.03000000e+02,   4.12090000e+04],\n",
       "       [  1.00000000e+00,   5.80000000e+01,   3.36400000e+03],\n",
       "       [  1.00000000e+00,   2.10000000e+02,   4.41000000e+04],\n",
       "       [  1.00000000e+00,   2.02000000e+02,   4.08040000e+04],\n",
       "       [  1.00000000e+00,   1.98000000e+02,   3.92040000e+04],\n",
       "       [  1.00000000e+00,   1.58000000e+02,   2.49640000e+04],\n",
       "       [  1.00000000e+00,   1.65000000e+02,   2.72250000e+04],\n",
       "       [  1.00000000e+00,   2.01000000e+02,   4.04010000e+04],\n",
       "       [  1.00000000e+00,   1.57000000e+02,   2.46490000e+04],\n",
       "       [  1.00000000e+00,   1.31000000e+02,   1.71610000e+04],\n",
       "       [  1.00000000e+00,   1.66000000e+02,   2.75560000e+04],\n",
       "       [  1.00000000e+00,   1.60000000e+02,   2.56000000e+04],\n",
       "       [  1.00000000e+00,   1.86000000e+02,   3.45960000e+04],\n",
       "       [  1.00000000e+00,   1.25000000e+02,   1.56250000e+04],\n",
       "       [  1.00000000e+00,   2.18000000e+02,   4.75240000e+04],\n",
       "       [  1.00000000e+00,   1.46000000e+02,   2.13160000e+04]])"
      ]
     },
     "execution_count": 74,
     "metadata": {},
     "output_type": "execute_result"
    }
   ],
   "source": [
    "A"
   ]
  },
  {
   "cell_type": "code",
   "execution_count": 109,
   "metadata": {},
   "outputs": [
    {
     "data": {
      "application/javascript": [
       "/* Put everything inside the global mpl namespace */\n",
       "window.mpl = {};\n",
       "\n",
       "\n",
       "mpl.get_websocket_type = function() {\n",
       "    if (typeof(WebSocket) !== 'undefined') {\n",
       "        return WebSocket;\n",
       "    } else if (typeof(MozWebSocket) !== 'undefined') {\n",
       "        return MozWebSocket;\n",
       "    } else {\n",
       "        alert('Your browser does not have WebSocket support.' +\n",
       "              'Please try Chrome, Safari or Firefox ≥ 6. ' +\n",
       "              'Firefox 4 and 5 are also supported but you ' +\n",
       "              'have to enable WebSockets in about:config.');\n",
       "    };\n",
       "}\n",
       "\n",
       "mpl.figure = function(figure_id, websocket, ondownload, parent_element) {\n",
       "    this.id = figure_id;\n",
       "\n",
       "    this.ws = websocket;\n",
       "\n",
       "    this.supports_binary = (this.ws.binaryType != undefined);\n",
       "\n",
       "    if (!this.supports_binary) {\n",
       "        var warnings = document.getElementById(\"mpl-warnings\");\n",
       "        if (warnings) {\n",
       "            warnings.style.display = 'block';\n",
       "            warnings.textContent = (\n",
       "                \"This browser does not support binary websocket messages. \" +\n",
       "                    \"Performance may be slow.\");\n",
       "        }\n",
       "    }\n",
       "\n",
       "    this.imageObj = new Image();\n",
       "\n",
       "    this.context = undefined;\n",
       "    this.message = undefined;\n",
       "    this.canvas = undefined;\n",
       "    this.rubberband_canvas = undefined;\n",
       "    this.rubberband_context = undefined;\n",
       "    this.format_dropdown = undefined;\n",
       "\n",
       "    this.image_mode = 'full';\n",
       "\n",
       "    this.root = $('<div/>');\n",
       "    this._root_extra_style(this.root)\n",
       "    this.root.attr('style', 'display: inline-block');\n",
       "\n",
       "    $(parent_element).append(this.root);\n",
       "\n",
       "    this._init_header(this);\n",
       "    this._init_canvas(this);\n",
       "    this._init_toolbar(this);\n",
       "\n",
       "    var fig = this;\n",
       "\n",
       "    this.waiting = false;\n",
       "\n",
       "    this.ws.onopen =  function () {\n",
       "            fig.send_message(\"supports_binary\", {value: fig.supports_binary});\n",
       "            fig.send_message(\"send_image_mode\", {});\n",
       "            if (mpl.ratio != 1) {\n",
       "                fig.send_message(\"set_dpi_ratio\", {'dpi_ratio': mpl.ratio});\n",
       "            }\n",
       "            fig.send_message(\"refresh\", {});\n",
       "        }\n",
       "\n",
       "    this.imageObj.onload = function() {\n",
       "            if (fig.image_mode == 'full') {\n",
       "                // Full images could contain transparency (where diff images\n",
       "                // almost always do), so we need to clear the canvas so that\n",
       "                // there is no ghosting.\n",
       "                fig.context.clearRect(0, 0, fig.canvas.width, fig.canvas.height);\n",
       "            }\n",
       "            fig.context.drawImage(fig.imageObj, 0, 0);\n",
       "        };\n",
       "\n",
       "    this.imageObj.onunload = function() {\n",
       "        this.ws.close();\n",
       "    }\n",
       "\n",
       "    this.ws.onmessage = this._make_on_message_function(this);\n",
       "\n",
       "    this.ondownload = ondownload;\n",
       "}\n",
       "\n",
       "mpl.figure.prototype._init_header = function() {\n",
       "    var titlebar = $(\n",
       "        '<div class=\"ui-dialog-titlebar ui-widget-header ui-corner-all ' +\n",
       "        'ui-helper-clearfix\"/>');\n",
       "    var titletext = $(\n",
       "        '<div class=\"ui-dialog-title\" style=\"width: 100%; ' +\n",
       "        'text-align: center; padding: 3px;\"/>');\n",
       "    titlebar.append(titletext)\n",
       "    this.root.append(titlebar);\n",
       "    this.header = titletext[0];\n",
       "}\n",
       "\n",
       "\n",
       "\n",
       "mpl.figure.prototype._canvas_extra_style = function(canvas_div) {\n",
       "\n",
       "}\n",
       "\n",
       "\n",
       "mpl.figure.prototype._root_extra_style = function(canvas_div) {\n",
       "\n",
       "}\n",
       "\n",
       "mpl.figure.prototype._init_canvas = function() {\n",
       "    var fig = this;\n",
       "\n",
       "    var canvas_div = $('<div/>');\n",
       "\n",
       "    canvas_div.attr('style', 'position: relative; clear: both; outline: 0');\n",
       "\n",
       "    function canvas_keyboard_event(event) {\n",
       "        return fig.key_event(event, event['data']);\n",
       "    }\n",
       "\n",
       "    canvas_div.keydown('key_press', canvas_keyboard_event);\n",
       "    canvas_div.keyup('key_release', canvas_keyboard_event);\n",
       "    this.canvas_div = canvas_div\n",
       "    this._canvas_extra_style(canvas_div)\n",
       "    this.root.append(canvas_div);\n",
       "\n",
       "    var canvas = $('<canvas/>');\n",
       "    canvas.addClass('mpl-canvas');\n",
       "    canvas.attr('style', \"left: 0; top: 0; z-index: 0; outline: 0\")\n",
       "\n",
       "    this.canvas = canvas[0];\n",
       "    this.context = canvas[0].getContext(\"2d\");\n",
       "\n",
       "    var backingStore = this.context.backingStorePixelRatio ||\n",
       "\tthis.context.webkitBackingStorePixelRatio ||\n",
       "\tthis.context.mozBackingStorePixelRatio ||\n",
       "\tthis.context.msBackingStorePixelRatio ||\n",
       "\tthis.context.oBackingStorePixelRatio ||\n",
       "\tthis.context.backingStorePixelRatio || 1;\n",
       "\n",
       "    mpl.ratio = (window.devicePixelRatio || 1) / backingStore;\n",
       "\n",
       "    var rubberband = $('<canvas/>');\n",
       "    rubberband.attr('style', \"position: absolute; left: 0; top: 0; z-index: 1;\")\n",
       "\n",
       "    var pass_mouse_events = true;\n",
       "\n",
       "    canvas_div.resizable({\n",
       "        start: function(event, ui) {\n",
       "            pass_mouse_events = false;\n",
       "        },\n",
       "        resize: function(event, ui) {\n",
       "            fig.request_resize(ui.size.width, ui.size.height);\n",
       "        },\n",
       "        stop: function(event, ui) {\n",
       "            pass_mouse_events = true;\n",
       "            fig.request_resize(ui.size.width, ui.size.height);\n",
       "        },\n",
       "    });\n",
       "\n",
       "    function mouse_event_fn(event) {\n",
       "        if (pass_mouse_events)\n",
       "            return fig.mouse_event(event, event['data']);\n",
       "    }\n",
       "\n",
       "    rubberband.mousedown('button_press', mouse_event_fn);\n",
       "    rubberband.mouseup('button_release', mouse_event_fn);\n",
       "    // Throttle sequential mouse events to 1 every 20ms.\n",
       "    rubberband.mousemove('motion_notify', mouse_event_fn);\n",
       "\n",
       "    rubberband.mouseenter('figure_enter', mouse_event_fn);\n",
       "    rubberband.mouseleave('figure_leave', mouse_event_fn);\n",
       "\n",
       "    canvas_div.on(\"wheel\", function (event) {\n",
       "        event = event.originalEvent;\n",
       "        event['data'] = 'scroll'\n",
       "        if (event.deltaY < 0) {\n",
       "            event.step = 1;\n",
       "        } else {\n",
       "            event.step = -1;\n",
       "        }\n",
       "        mouse_event_fn(event);\n",
       "    });\n",
       "\n",
       "    canvas_div.append(canvas);\n",
       "    canvas_div.append(rubberband);\n",
       "\n",
       "    this.rubberband = rubberband;\n",
       "    this.rubberband_canvas = rubberband[0];\n",
       "    this.rubberband_context = rubberband[0].getContext(\"2d\");\n",
       "    this.rubberband_context.strokeStyle = \"#000000\";\n",
       "\n",
       "    this._resize_canvas = function(width, height) {\n",
       "        // Keep the size of the canvas, canvas container, and rubber band\n",
       "        // canvas in synch.\n",
       "        canvas_div.css('width', width)\n",
       "        canvas_div.css('height', height)\n",
       "\n",
       "        canvas.attr('width', width * mpl.ratio);\n",
       "        canvas.attr('height', height * mpl.ratio);\n",
       "        canvas.attr('style', 'width: ' + width + 'px; height: ' + height + 'px;');\n",
       "\n",
       "        rubberband.attr('width', width);\n",
       "        rubberband.attr('height', height);\n",
       "    }\n",
       "\n",
       "    // Set the figure to an initial 600x600px, this will subsequently be updated\n",
       "    // upon first draw.\n",
       "    this._resize_canvas(600, 600);\n",
       "\n",
       "    // Disable right mouse context menu.\n",
       "    $(this.rubberband_canvas).bind(\"contextmenu\",function(e){\n",
       "        return false;\n",
       "    });\n",
       "\n",
       "    function set_focus () {\n",
       "        canvas.focus();\n",
       "        canvas_div.focus();\n",
       "    }\n",
       "\n",
       "    window.setTimeout(set_focus, 100);\n",
       "}\n",
       "\n",
       "mpl.figure.prototype._init_toolbar = function() {\n",
       "    var fig = this;\n",
       "\n",
       "    var nav_element = $('<div/>')\n",
       "    nav_element.attr('style', 'width: 100%');\n",
       "    this.root.append(nav_element);\n",
       "\n",
       "    // Define a callback function for later on.\n",
       "    function toolbar_event(event) {\n",
       "        return fig.toolbar_button_onclick(event['data']);\n",
       "    }\n",
       "    function toolbar_mouse_event(event) {\n",
       "        return fig.toolbar_button_onmouseover(event['data']);\n",
       "    }\n",
       "\n",
       "    for(var toolbar_ind in mpl.toolbar_items) {\n",
       "        var name = mpl.toolbar_items[toolbar_ind][0];\n",
       "        var tooltip = mpl.toolbar_items[toolbar_ind][1];\n",
       "        var image = mpl.toolbar_items[toolbar_ind][2];\n",
       "        var method_name = mpl.toolbar_items[toolbar_ind][3];\n",
       "\n",
       "        if (!name) {\n",
       "            // put a spacer in here.\n",
       "            continue;\n",
       "        }\n",
       "        var button = $('<button/>');\n",
       "        button.addClass('ui-button ui-widget ui-state-default ui-corner-all ' +\n",
       "                        'ui-button-icon-only');\n",
       "        button.attr('role', 'button');\n",
       "        button.attr('aria-disabled', 'false');\n",
       "        button.click(method_name, toolbar_event);\n",
       "        button.mouseover(tooltip, toolbar_mouse_event);\n",
       "\n",
       "        var icon_img = $('<span/>');\n",
       "        icon_img.addClass('ui-button-icon-primary ui-icon');\n",
       "        icon_img.addClass(image);\n",
       "        icon_img.addClass('ui-corner-all');\n",
       "\n",
       "        var tooltip_span = $('<span/>');\n",
       "        tooltip_span.addClass('ui-button-text');\n",
       "        tooltip_span.html(tooltip);\n",
       "\n",
       "        button.append(icon_img);\n",
       "        button.append(tooltip_span);\n",
       "\n",
       "        nav_element.append(button);\n",
       "    }\n",
       "\n",
       "    var fmt_picker_span = $('<span/>');\n",
       "\n",
       "    var fmt_picker = $('<select/>');\n",
       "    fmt_picker.addClass('mpl-toolbar-option ui-widget ui-widget-content');\n",
       "    fmt_picker_span.append(fmt_picker);\n",
       "    nav_element.append(fmt_picker_span);\n",
       "    this.format_dropdown = fmt_picker[0];\n",
       "\n",
       "    for (var ind in mpl.extensions) {\n",
       "        var fmt = mpl.extensions[ind];\n",
       "        var option = $(\n",
       "            '<option/>', {selected: fmt === mpl.default_extension}).html(fmt);\n",
       "        fmt_picker.append(option)\n",
       "    }\n",
       "\n",
       "    // Add hover states to the ui-buttons\n",
       "    $( \".ui-button\" ).hover(\n",
       "        function() { $(this).addClass(\"ui-state-hover\");},\n",
       "        function() { $(this).removeClass(\"ui-state-hover\");}\n",
       "    );\n",
       "\n",
       "    var status_bar = $('<span class=\"mpl-message\"/>');\n",
       "    nav_element.append(status_bar);\n",
       "    this.message = status_bar[0];\n",
       "}\n",
       "\n",
       "mpl.figure.prototype.request_resize = function(x_pixels, y_pixels) {\n",
       "    // Request matplotlib to resize the figure. Matplotlib will then trigger a resize in the client,\n",
       "    // which will in turn request a refresh of the image.\n",
       "    this.send_message('resize', {'width': x_pixels, 'height': y_pixels});\n",
       "}\n",
       "\n",
       "mpl.figure.prototype.send_message = function(type, properties) {\n",
       "    properties['type'] = type;\n",
       "    properties['figure_id'] = this.id;\n",
       "    this.ws.send(JSON.stringify(properties));\n",
       "}\n",
       "\n",
       "mpl.figure.prototype.send_draw_message = function() {\n",
       "    if (!this.waiting) {\n",
       "        this.waiting = true;\n",
       "        this.ws.send(JSON.stringify({type: \"draw\", figure_id: this.id}));\n",
       "    }\n",
       "}\n",
       "\n",
       "\n",
       "mpl.figure.prototype.handle_save = function(fig, msg) {\n",
       "    var format_dropdown = fig.format_dropdown;\n",
       "    var format = format_dropdown.options[format_dropdown.selectedIndex].value;\n",
       "    fig.ondownload(fig, format);\n",
       "}\n",
       "\n",
       "\n",
       "mpl.figure.prototype.handle_resize = function(fig, msg) {\n",
       "    var size = msg['size'];\n",
       "    if (size[0] != fig.canvas.width || size[1] != fig.canvas.height) {\n",
       "        fig._resize_canvas(size[0], size[1]);\n",
       "        fig.send_message(\"refresh\", {});\n",
       "    };\n",
       "}\n",
       "\n",
       "mpl.figure.prototype.handle_rubberband = function(fig, msg) {\n",
       "    var x0 = msg['x0'] / mpl.ratio;\n",
       "    var y0 = (fig.canvas.height - msg['y0']) / mpl.ratio;\n",
       "    var x1 = msg['x1'] / mpl.ratio;\n",
       "    var y1 = (fig.canvas.height - msg['y1']) / mpl.ratio;\n",
       "    x0 = Math.floor(x0) + 0.5;\n",
       "    y0 = Math.floor(y0) + 0.5;\n",
       "    x1 = Math.floor(x1) + 0.5;\n",
       "    y1 = Math.floor(y1) + 0.5;\n",
       "    var min_x = Math.min(x0, x1);\n",
       "    var min_y = Math.min(y0, y1);\n",
       "    var width = Math.abs(x1 - x0);\n",
       "    var height = Math.abs(y1 - y0);\n",
       "\n",
       "    fig.rubberband_context.clearRect(\n",
       "        0, 0, fig.canvas.width, fig.canvas.height);\n",
       "\n",
       "    fig.rubberband_context.strokeRect(min_x, min_y, width, height);\n",
       "}\n",
       "\n",
       "mpl.figure.prototype.handle_figure_label = function(fig, msg) {\n",
       "    // Updates the figure title.\n",
       "    fig.header.textContent = msg['label'];\n",
       "}\n",
       "\n",
       "mpl.figure.prototype.handle_cursor = function(fig, msg) {\n",
       "    var cursor = msg['cursor'];\n",
       "    switch(cursor)\n",
       "    {\n",
       "    case 0:\n",
       "        cursor = 'pointer';\n",
       "        break;\n",
       "    case 1:\n",
       "        cursor = 'default';\n",
       "        break;\n",
       "    case 2:\n",
       "        cursor = 'crosshair';\n",
       "        break;\n",
       "    case 3:\n",
       "        cursor = 'move';\n",
       "        break;\n",
       "    }\n",
       "    fig.rubberband_canvas.style.cursor = cursor;\n",
       "}\n",
       "\n",
       "mpl.figure.prototype.handle_message = function(fig, msg) {\n",
       "    fig.message.textContent = msg['message'];\n",
       "}\n",
       "\n",
       "mpl.figure.prototype.handle_draw = function(fig, msg) {\n",
       "    // Request the server to send over a new figure.\n",
       "    fig.send_draw_message();\n",
       "}\n",
       "\n",
       "mpl.figure.prototype.handle_image_mode = function(fig, msg) {\n",
       "    fig.image_mode = msg['mode'];\n",
       "}\n",
       "\n",
       "mpl.figure.prototype.updated_canvas_event = function() {\n",
       "    // Called whenever the canvas gets updated.\n",
       "    this.send_message(\"ack\", {});\n",
       "}\n",
       "\n",
       "// A function to construct a web socket function for onmessage handling.\n",
       "// Called in the figure constructor.\n",
       "mpl.figure.prototype._make_on_message_function = function(fig) {\n",
       "    return function socket_on_message(evt) {\n",
       "        if (evt.data instanceof Blob) {\n",
       "            /* FIXME: We get \"Resource interpreted as Image but\n",
       "             * transferred with MIME type text/plain:\" errors on\n",
       "             * Chrome.  But how to set the MIME type?  It doesn't seem\n",
       "             * to be part of the websocket stream */\n",
       "            evt.data.type = \"image/png\";\n",
       "\n",
       "            /* Free the memory for the previous frames */\n",
       "            if (fig.imageObj.src) {\n",
       "                (window.URL || window.webkitURL).revokeObjectURL(\n",
       "                    fig.imageObj.src);\n",
       "            }\n",
       "\n",
       "            fig.imageObj.src = (window.URL || window.webkitURL).createObjectURL(\n",
       "                evt.data);\n",
       "            fig.updated_canvas_event();\n",
       "            fig.waiting = false;\n",
       "            return;\n",
       "        }\n",
       "        else if (typeof evt.data === 'string' && evt.data.slice(0, 21) == \"data:image/png;base64\") {\n",
       "            fig.imageObj.src = evt.data;\n",
       "            fig.updated_canvas_event();\n",
       "            fig.waiting = false;\n",
       "            return;\n",
       "        }\n",
       "\n",
       "        var msg = JSON.parse(evt.data);\n",
       "        var msg_type = msg['type'];\n",
       "\n",
       "        // Call the  \"handle_{type}\" callback, which takes\n",
       "        // the figure and JSON message as its only arguments.\n",
       "        try {\n",
       "            var callback = fig[\"handle_\" + msg_type];\n",
       "        } catch (e) {\n",
       "            console.log(\"No handler for the '\" + msg_type + \"' message type: \", msg);\n",
       "            return;\n",
       "        }\n",
       "\n",
       "        if (callback) {\n",
       "            try {\n",
       "                // console.log(\"Handling '\" + msg_type + \"' message: \", msg);\n",
       "                callback(fig, msg);\n",
       "            } catch (e) {\n",
       "                console.log(\"Exception inside the 'handler_\" + msg_type + \"' callback:\", e, e.stack, msg);\n",
       "            }\n",
       "        }\n",
       "    };\n",
       "}\n",
       "\n",
       "// from http://stackoverflow.com/questions/1114465/getting-mouse-location-in-canvas\n",
       "mpl.findpos = function(e) {\n",
       "    //this section is from http://www.quirksmode.org/js/events_properties.html\n",
       "    var targ;\n",
       "    if (!e)\n",
       "        e = window.event;\n",
       "    if (e.target)\n",
       "        targ = e.target;\n",
       "    else if (e.srcElement)\n",
       "        targ = e.srcElement;\n",
       "    if (targ.nodeType == 3) // defeat Safari bug\n",
       "        targ = targ.parentNode;\n",
       "\n",
       "    // jQuery normalizes the pageX and pageY\n",
       "    // pageX,Y are the mouse positions relative to the document\n",
       "    // offset() returns the position of the element relative to the document\n",
       "    var x = e.pageX - $(targ).offset().left;\n",
       "    var y = e.pageY - $(targ).offset().top;\n",
       "\n",
       "    return {\"x\": x, \"y\": y};\n",
       "};\n",
       "\n",
       "/*\n",
       " * return a copy of an object with only non-object keys\n",
       " * we need this to avoid circular references\n",
       " * http://stackoverflow.com/a/24161582/3208463\n",
       " */\n",
       "function simpleKeys (original) {\n",
       "  return Object.keys(original).reduce(function (obj, key) {\n",
       "    if (typeof original[key] !== 'object')\n",
       "        obj[key] = original[key]\n",
       "    return obj;\n",
       "  }, {});\n",
       "}\n",
       "\n",
       "mpl.figure.prototype.mouse_event = function(event, name) {\n",
       "    var canvas_pos = mpl.findpos(event)\n",
       "\n",
       "    if (name === 'button_press')\n",
       "    {\n",
       "        this.canvas.focus();\n",
       "        this.canvas_div.focus();\n",
       "    }\n",
       "\n",
       "    var x = canvas_pos.x * mpl.ratio;\n",
       "    var y = canvas_pos.y * mpl.ratio;\n",
       "\n",
       "    this.send_message(name, {x: x, y: y, button: event.button,\n",
       "                             step: event.step,\n",
       "                             guiEvent: simpleKeys(event)});\n",
       "\n",
       "    /* This prevents the web browser from automatically changing to\n",
       "     * the text insertion cursor when the button is pressed.  We want\n",
       "     * to control all of the cursor setting manually through the\n",
       "     * 'cursor' event from matplotlib */\n",
       "    event.preventDefault();\n",
       "    return false;\n",
       "}\n",
       "\n",
       "mpl.figure.prototype._key_event_extra = function(event, name) {\n",
       "    // Handle any extra behaviour associated with a key event\n",
       "}\n",
       "\n",
       "mpl.figure.prototype.key_event = function(event, name) {\n",
       "\n",
       "    // Prevent repeat events\n",
       "    if (name == 'key_press')\n",
       "    {\n",
       "        if (event.which === this._key)\n",
       "            return;\n",
       "        else\n",
       "            this._key = event.which;\n",
       "    }\n",
       "    if (name == 'key_release')\n",
       "        this._key = null;\n",
       "\n",
       "    var value = '';\n",
       "    if (event.ctrlKey && event.which != 17)\n",
       "        value += \"ctrl+\";\n",
       "    if (event.altKey && event.which != 18)\n",
       "        value += \"alt+\";\n",
       "    if (event.shiftKey && event.which != 16)\n",
       "        value += \"shift+\";\n",
       "\n",
       "    value += 'k';\n",
       "    value += event.which.toString();\n",
       "\n",
       "    this._key_event_extra(event, name);\n",
       "\n",
       "    this.send_message(name, {key: value,\n",
       "                             guiEvent: simpleKeys(event)});\n",
       "    return false;\n",
       "}\n",
       "\n",
       "mpl.figure.prototype.toolbar_button_onclick = function(name) {\n",
       "    if (name == 'download') {\n",
       "        this.handle_save(this, null);\n",
       "    } else {\n",
       "        this.send_message(\"toolbar_button\", {name: name});\n",
       "    }\n",
       "};\n",
       "\n",
       "mpl.figure.prototype.toolbar_button_onmouseover = function(tooltip) {\n",
       "    this.message.textContent = tooltip;\n",
       "};\n",
       "mpl.toolbar_items = [[\"Home\", \"Reset original view\", \"fa fa-home icon-home\", \"home\"], [\"Back\", \"Back to  previous view\", \"fa fa-arrow-left icon-arrow-left\", \"back\"], [\"Forward\", \"Forward to next view\", \"fa fa-arrow-right icon-arrow-right\", \"forward\"], [\"\", \"\", \"\", \"\"], [\"Pan\", \"Pan axes with left mouse, zoom with right\", \"fa fa-arrows icon-move\", \"pan\"], [\"Zoom\", \"Zoom to rectangle\", \"fa fa-square-o icon-check-empty\", \"zoom\"], [\"\", \"\", \"\", \"\"], [\"Download\", \"Download plot\", \"fa fa-floppy-o icon-save\", \"download\"]];\n",
       "\n",
       "mpl.extensions = [\"eps\", \"pdf\", \"png\", \"ps\", \"raw\", \"svg\"];\n",
       "\n",
       "mpl.default_extension = \"png\";var comm_websocket_adapter = function(comm) {\n",
       "    // Create a \"websocket\"-like object which calls the given IPython comm\n",
       "    // object with the appropriate methods. Currently this is a non binary\n",
       "    // socket, so there is still some room for performance tuning.\n",
       "    var ws = {};\n",
       "\n",
       "    ws.close = function() {\n",
       "        comm.close()\n",
       "    };\n",
       "    ws.send = function(m) {\n",
       "        //console.log('sending', m);\n",
       "        comm.send(m);\n",
       "    };\n",
       "    // Register the callback with on_msg.\n",
       "    comm.on_msg(function(msg) {\n",
       "        //console.log('receiving', msg['content']['data'], msg);\n",
       "        // Pass the mpl event to the overriden (by mpl) onmessage function.\n",
       "        ws.onmessage(msg['content']['data'])\n",
       "    });\n",
       "    return ws;\n",
       "}\n",
       "\n",
       "mpl.mpl_figure_comm = function(comm, msg) {\n",
       "    // This is the function which gets called when the mpl process\n",
       "    // starts-up an IPython Comm through the \"matplotlib\" channel.\n",
       "\n",
       "    var id = msg.content.data.id;\n",
       "    // Get hold of the div created by the display call when the Comm\n",
       "    // socket was opened in Python.\n",
       "    var element = $(\"#\" + id);\n",
       "    var ws_proxy = comm_websocket_adapter(comm)\n",
       "\n",
       "    function ondownload(figure, format) {\n",
       "        window.open(figure.imageObj.src);\n",
       "    }\n",
       "\n",
       "    var fig = new mpl.figure(id, ws_proxy,\n",
       "                           ondownload,\n",
       "                           element.get(0));\n",
       "\n",
       "    // Call onopen now - mpl needs it, as it is assuming we've passed it a real\n",
       "    // web socket which is closed, not our websocket->open comm proxy.\n",
       "    ws_proxy.onopen();\n",
       "\n",
       "    fig.parent_element = element.get(0);\n",
       "    fig.cell_info = mpl.find_output_cell(\"<div id='\" + id + \"'></div>\");\n",
       "    if (!fig.cell_info) {\n",
       "        console.error(\"Failed to find cell for figure\", id, fig);\n",
       "        return;\n",
       "    }\n",
       "\n",
       "    var output_index = fig.cell_info[2]\n",
       "    var cell = fig.cell_info[0];\n",
       "\n",
       "};\n",
       "\n",
       "mpl.figure.prototype.handle_close = function(fig, msg) {\n",
       "    var width = fig.canvas.width/mpl.ratio\n",
       "    fig.root.unbind('remove')\n",
       "\n",
       "    // Update the output cell to use the data from the current canvas.\n",
       "    fig.push_to_output();\n",
       "    var dataURL = fig.canvas.toDataURL();\n",
       "    // Re-enable the keyboard manager in IPython - without this line, in FF,\n",
       "    // the notebook keyboard shortcuts fail.\n",
       "    IPython.keyboard_manager.enable()\n",
       "    $(fig.parent_element).html('<img src=\"' + dataURL + '\" width=\"' + width + '\">');\n",
       "    fig.close_ws(fig, msg);\n",
       "}\n",
       "\n",
       "mpl.figure.prototype.close_ws = function(fig, msg){\n",
       "    fig.send_message('closing', msg);\n",
       "    // fig.ws.close()\n",
       "}\n",
       "\n",
       "mpl.figure.prototype.push_to_output = function(remove_interactive) {\n",
       "    // Turn the data on the canvas into data in the output cell.\n",
       "    var width = this.canvas.width/mpl.ratio\n",
       "    var dataURL = this.canvas.toDataURL();\n",
       "    this.cell_info[1]['text/html'] = '<img src=\"' + dataURL + '\" width=\"' + width + '\">';\n",
       "}\n",
       "\n",
       "mpl.figure.prototype.updated_canvas_event = function() {\n",
       "    // Tell IPython that the notebook contents must change.\n",
       "    IPython.notebook.set_dirty(true);\n",
       "    this.send_message(\"ack\", {});\n",
       "    var fig = this;\n",
       "    // Wait a second, then push the new image to the DOM so\n",
       "    // that it is saved nicely (might be nice to debounce this).\n",
       "    setTimeout(function () { fig.push_to_output() }, 1000);\n",
       "}\n",
       "\n",
       "mpl.figure.prototype._init_toolbar = function() {\n",
       "    var fig = this;\n",
       "\n",
       "    var nav_element = $('<div/>')\n",
       "    nav_element.attr('style', 'width: 100%');\n",
       "    this.root.append(nav_element);\n",
       "\n",
       "    // Define a callback function for later on.\n",
       "    function toolbar_event(event) {\n",
       "        return fig.toolbar_button_onclick(event['data']);\n",
       "    }\n",
       "    function toolbar_mouse_event(event) {\n",
       "        return fig.toolbar_button_onmouseover(event['data']);\n",
       "    }\n",
       "\n",
       "    for(var toolbar_ind in mpl.toolbar_items){\n",
       "        var name = mpl.toolbar_items[toolbar_ind][0];\n",
       "        var tooltip = mpl.toolbar_items[toolbar_ind][1];\n",
       "        var image = mpl.toolbar_items[toolbar_ind][2];\n",
       "        var method_name = mpl.toolbar_items[toolbar_ind][3];\n",
       "\n",
       "        if (!name) { continue; };\n",
       "\n",
       "        var button = $('<button class=\"btn btn-default\" href=\"#\" title=\"' + name + '\"><i class=\"fa ' + image + ' fa-lg\"></i></button>');\n",
       "        button.click(method_name, toolbar_event);\n",
       "        button.mouseover(tooltip, toolbar_mouse_event);\n",
       "        nav_element.append(button);\n",
       "    }\n",
       "\n",
       "    // Add the status bar.\n",
       "    var status_bar = $('<span class=\"mpl-message\" style=\"text-align:right; float: right;\"/>');\n",
       "    nav_element.append(status_bar);\n",
       "    this.message = status_bar[0];\n",
       "\n",
       "    // Add the close button to the window.\n",
       "    var buttongrp = $('<div class=\"btn-group inline pull-right\"></div>');\n",
       "    var button = $('<button class=\"btn btn-mini btn-primary\" href=\"#\" title=\"Stop Interaction\"><i class=\"fa fa-power-off icon-remove icon-large\"></i></button>');\n",
       "    button.click(function (evt) { fig.handle_close(fig, {}); } );\n",
       "    button.mouseover('Stop Interaction', toolbar_mouse_event);\n",
       "    buttongrp.append(button);\n",
       "    var titlebar = this.root.find($('.ui-dialog-titlebar'));\n",
       "    titlebar.prepend(buttongrp);\n",
       "}\n",
       "\n",
       "mpl.figure.prototype._root_extra_style = function(el){\n",
       "    var fig = this\n",
       "    el.on(\"remove\", function(){\n",
       "\tfig.close_ws(fig, {});\n",
       "    });\n",
       "}\n",
       "\n",
       "mpl.figure.prototype._canvas_extra_style = function(el){\n",
       "    // this is important to make the div 'focusable\n",
       "    el.attr('tabindex', 0)\n",
       "    // reach out to IPython and tell the keyboard manager to turn it's self\n",
       "    // off when our div gets focus\n",
       "\n",
       "    // location in version 3\n",
       "    if (IPython.notebook.keyboard_manager) {\n",
       "        IPython.notebook.keyboard_manager.register_events(el);\n",
       "    }\n",
       "    else {\n",
       "        // location in version 2\n",
       "        IPython.keyboard_manager.register_events(el);\n",
       "    }\n",
       "\n",
       "}\n",
       "\n",
       "mpl.figure.prototype._key_event_extra = function(event, name) {\n",
       "    var manager = IPython.notebook.keyboard_manager;\n",
       "    if (!manager)\n",
       "        manager = IPython.keyboard_manager;\n",
       "\n",
       "    // Check for shift+enter\n",
       "    if (event.shiftKey && event.which == 13) {\n",
       "        this.canvas_div.blur();\n",
       "        // select the cell after this one\n",
       "        var index = IPython.notebook.find_cell_index(this.cell_info[0]);\n",
       "        IPython.notebook.select(index + 1);\n",
       "    }\n",
       "}\n",
       "\n",
       "mpl.figure.prototype.handle_save = function(fig, msg) {\n",
       "    fig.ondownload(fig, null);\n",
       "}\n",
       "\n",
       "\n",
       "mpl.find_output_cell = function(html_output) {\n",
       "    // Return the cell and output element which can be found *uniquely* in the notebook.\n",
       "    // Note - this is a bit hacky, but it is done because the \"notebook_saving.Notebook\"\n",
       "    // IPython event is triggered only after the cells have been serialised, which for\n",
       "    // our purposes (turning an active figure into a static one), is too late.\n",
       "    var cells = IPython.notebook.get_cells();\n",
       "    var ncells = cells.length;\n",
       "    for (var i=0; i<ncells; i++) {\n",
       "        var cell = cells[i];\n",
       "        if (cell.cell_type === 'code'){\n",
       "            for (var j=0; j<cell.output_area.outputs.length; j++) {\n",
       "                var data = cell.output_area.outputs[j];\n",
       "                if (data.data) {\n",
       "                    // IPython >= 3 moved mimebundle to data attribute of output\n",
       "                    data = data.data;\n",
       "                }\n",
       "                if (data['text/html'] == html_output) {\n",
       "                    return [cell, data, j];\n",
       "                }\n",
       "            }\n",
       "        }\n",
       "    }\n",
       "}\n",
       "\n",
       "// Register the function which deals with the matplotlib target/channel.\n",
       "// The kernel may be null if the page has been refreshed.\n",
       "if (IPython.notebook.kernel != null) {\n",
       "    IPython.notebook.kernel.comm_manager.register_target('matplotlib', mpl.mpl_figure_comm);\n",
       "}\n"
      ],
      "text/plain": [
       "<IPython.core.display.Javascript object>"
      ]
     },
     "metadata": {},
     "output_type": "display_data"
    },
    {
     "data": {
      "text/html": [
       "<img src=\"data:image/png;base64,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\" width=\"640\">"
      ],
      "text/plain": [
       "<IPython.core.display.HTML object>"
      ]
     },
     "metadata": {},
     "output_type": "display_data"
    },
    {
     "data": {
      "text/plain": [
       "<matplotlib.text.Text at 0x1254999e8>"
      ]
     },
     "execution_count": 109,
     "metadata": {},
     "output_type": "execute_result"
    }
   ],
   "source": [
    "xs = np.linspace(0, 300, 300)\n",
    "plt.errorbar(x, y, yerr = sigma_y, fmt = 'o')# complete\n",
    "plt.plot(xs, bestfit[2]*xs**2 + bestfit[1]*xs+bestfit[0])\n",
    "plt.xlabel('x')\n",
    "plt.ylabel('y')# complete"
   ]
  },
  {
   "cell_type": "markdown",
   "metadata": {
    "slideshow": {
     "slide_type": "subslide"
    }
   },
   "source": [
    "By eye (a metric that is hardly quantitative, but nevertheless worth developing because talks never provide all of the details), the quadratic fit appears \"better\" than the linear fit.\n",
    "\n",
    "But, there are still \"outliers\" and in the realm of polynomial fitting, it is always possible to get a better fit by adding more degrees to the polynomial. Should we keep going here, or should we stop? (Again - we will discuss model selection with Adam on Friday)\n",
    "\n",
    "[As a reminder - in machine learning we'd call this low training error, but the generalization error is likely huge]"
   ]
  },
  {
   "cell_type": "markdown",
   "metadata": {
    "slideshow": {
     "slide_type": "slide"
    }
   },
   "source": [
    "How should we deal with these potential outliers?\n",
    "\n",
    "(and to re-iterate, we cannot be certain that these points are, in fact, outliers)"
   ]
  },
  {
   "cell_type": "markdown",
   "metadata": {
    "slideshow": {
     "slide_type": "subslide"
    }
   },
   "source": [
    "Amazingly, if you scroll through the literature you can find solutions like the following: \"We do not *believe* the data point at (x, y) for reasons A, B, C. Thus, we exclude that point from the fit.\"\n",
    "\n",
    "This, obviously, lacks any sort of rigor. If data is going to be removed, and it is worth asking if data should ever be removed, it should not be subject to the \"beliefs\" of an individual person or group. "
   ]
  },
  {
   "cell_type": "markdown",
   "metadata": {
    "slideshow": {
     "slide_type": "subslide"
    }
   },
   "source": [
    "A more common approach that you might encounter is known as $k\\sigma$ clipping, which is an iterative procedure to identify and remove outliers from a data set. The procedure is as follows:\n",
    "\n",
    "1. Fit the model to the data\n",
    "2. Identify any data points that are $k\\sigma$ discrepant from the best-fit model\n",
    "3. Remove the discrepant points, repeat steps 1 & 2 until there are no data beyond $k\\sigma$"
   ]
  },
  {
   "cell_type": "markdown",
   "metadata": {
    "slideshow": {
     "slide_type": "subslide"
    }
   },
   "source": [
    "The motivation for this procedure is the following: in a small data set (such as the one above, 20 points), the likelihood of having large $\\sigma$ deviations (let's say $k = 5$) is vanishingly small. Thus, it \"makes sense\" to remove those points. \n",
    "\n",
    "Of course, this only makes sense if the uncertainties are truly gaussian with low variance. So again, specific, and likely untrue, assumptions have to be made. "
   ]
  },
  {
   "cell_type": "markdown",
   "metadata": {
    "slideshow": {
     "slide_type": "slide"
    }
   },
   "source": [
    "**Problem 3c**\n",
    "\n",
    "Develop a $k\\sigma$ clipping procedure to fit a line to the data set. Set $k = 5$ and determine the best-fit line to the data. \n",
    "\n",
    "Overplot the results of the procedure on the data. How does this fit to the data look?"
   ]
  },
  {
   "cell_type": "code",
   "execution_count": 98,
   "metadata": {},
   "outputs": [
    {
     "data": {
      "text/plain": [
       "array([ 252.47202852,    0.8965819 ])"
      ]
     },
     "execution_count": 98,
     "metadata": {},
     "output_type": "execute_result"
    }
   ],
   "source": [
    "bestfit"
   ]
  },
  {
   "cell_type": "code",
   "execution_count": null,
   "metadata": {},
   "outputs": [],
   "source": [
    "x = np.array([201, 201, 287, 166,  58, 157, 146, 218, 203, 186, 160,  47, 210,\n",
    "       131, 202, 125, 158, 198, 165, 244])\n",
    "y = np.array([592, 442, 402, 400, 173, 317, 344, 533, 495, 423, 337, 583, 479,\n",
    "       311, 504, 334, 416, 510, 393, 401])\n",
    "sigma_y = np.array([61, 25, 15, 34, 15, 52, 22, 16, 21, 42, 31, 38, 27, 16, 14, 26, 16,\n",
    "       30, 14, 25])\n",
    "\n",
    "\n",
    "\n",
    "\n"
   ]
  },
  {
   "cell_type": "code",
   "execution_count": null,
   "metadata": {
    "collapsed": true
   },
   "outputs": [],
   "source": [
    "from scipy import linalg\n",
    "\n",
    "def get_bestfit(Y, A, C):\n",
    "\n",
    "    _temp= np.dot(linalg.inv(C),Y.T)\n",
    "    _temp = np.dot(A.T, np.dot(linalg.inv(C),Y.T))\n",
    "    _tempupd= np.dot(linalg.inv(C),A)\n",
    "    _tempupd = np.dot(A.T,np.dot(linalg.inv(C),A))\n",
    "    _tempupd= linalg.inv(_tempupd)\n",
    "    bestfit= np.dot(_tempupd,_temp)\n",
    "    \n",
    "    return bestfit"
   ]
  },
  {
   "cell_type": "code",
   "execution_count": null,
   "metadata": {
    "collapsed": true
   },
   "outputs": [],
   "source": [
    "def k_sigma_clipping(x, y, sigma_y, k = 5):\n",
    "    not_clipped = np.ones_like(y).astype(bool)\n",
    "    n_remove = 1\n",
    "    while n_remove > 0:\n",
    "        Y = y[not_clipped].reshape(-1, 1)\n",
    "        A = np.vstack((np.ones_like(x[not_clipped], x[not_clipped]))).T\n",
    "        C = np.diag(np.ones_like(sigma_y[not_clipped]))\n",
    "        bestfit = get_bestfit(Y, A, C)\n",
    "        \n",
    "        \n",
    "         \n",
    "    return not_clipped\n",
    "\n",
    "k_sigma_clipping(x, y, sigma_y, k=5)"
   ]
  },
  {
   "cell_type": "code",
   "execution_count": 87,
   "metadata": {
    "collapsed": true
   },
   "outputs": [],
   "source": [
    "x = np.array([201, 201, 287, 166,  58, 157, 146, 218, 203, 186, 160,  47, 210,\n",
    "       131, 202, 125, 158, 198, 165, 244])\n",
    "y = np.array([592, 442, 402, 400, 173, 317, 344, 533, 495, 423, 337, 583, 479,\n",
    "       311, 504, 334, 416, 510, 393, 401])\n",
    "sigma_y = np.array([61, 25, 15, 34, 15, 52, 22, 16, 21, 42, 31, 38, 27, 16, 14, 26, 16,\n",
    "       30, 14, 25])"
   ]
  },
  {
   "cell_type": "code",
   "execution_count": 92,
   "metadata": {
    "slideshow": {
     "slide_type": "subslide"
    }
   },
   "outputs": [
    {
     "data": {
      "application/javascript": [
       "/* Put everything inside the global mpl namespace */\n",
       "window.mpl = {};\n",
       "\n",
       "\n",
       "mpl.get_websocket_type = function() {\n",
       "    if (typeof(WebSocket) !== 'undefined') {\n",
       "        return WebSocket;\n",
       "    } else if (typeof(MozWebSocket) !== 'undefined') {\n",
       "        return MozWebSocket;\n",
       "    } else {\n",
       "        alert('Your browser does not have WebSocket support.' +\n",
       "              'Please try Chrome, Safari or Firefox ≥ 6. ' +\n",
       "              'Firefox 4 and 5 are also supported but you ' +\n",
       "              'have to enable WebSockets in about:config.');\n",
       "    };\n",
       "}\n",
       "\n",
       "mpl.figure = function(figure_id, websocket, ondownload, parent_element) {\n",
       "    this.id = figure_id;\n",
       "\n",
       "    this.ws = websocket;\n",
       "\n",
       "    this.supports_binary = (this.ws.binaryType != undefined);\n",
       "\n",
       "    if (!this.supports_binary) {\n",
       "        var warnings = document.getElementById(\"mpl-warnings\");\n",
       "        if (warnings) {\n",
       "            warnings.style.display = 'block';\n",
       "            warnings.textContent = (\n",
       "                \"This browser does not support binary websocket messages. \" +\n",
       "                    \"Performance may be slow.\");\n",
       "        }\n",
       "    }\n",
       "\n",
       "    this.imageObj = new Image();\n",
       "\n",
       "    this.context = undefined;\n",
       "    this.message = undefined;\n",
       "    this.canvas = undefined;\n",
       "    this.rubberband_canvas = undefined;\n",
       "    this.rubberband_context = undefined;\n",
       "    this.format_dropdown = undefined;\n",
       "\n",
       "    this.image_mode = 'full';\n",
       "\n",
       "    this.root = $('<div/>');\n",
       "    this._root_extra_style(this.root)\n",
       "    this.root.attr('style', 'display: inline-block');\n",
       "\n",
       "    $(parent_element).append(this.root);\n",
       "\n",
       "    this._init_header(this);\n",
       "    this._init_canvas(this);\n",
       "    this._init_toolbar(this);\n",
       "\n",
       "    var fig = this;\n",
       "\n",
       "    this.waiting = false;\n",
       "\n",
       "    this.ws.onopen =  function () {\n",
       "            fig.send_message(\"supports_binary\", {value: fig.supports_binary});\n",
       "            fig.send_message(\"send_image_mode\", {});\n",
       "            if (mpl.ratio != 1) {\n",
       "                fig.send_message(\"set_dpi_ratio\", {'dpi_ratio': mpl.ratio});\n",
       "            }\n",
       "            fig.send_message(\"refresh\", {});\n",
       "        }\n",
       "\n",
       "    this.imageObj.onload = function() {\n",
       "            if (fig.image_mode == 'full') {\n",
       "                // Full images could contain transparency (where diff images\n",
       "                // almost always do), so we need to clear the canvas so that\n",
       "                // there is no ghosting.\n",
       "                fig.context.clearRect(0, 0, fig.canvas.width, fig.canvas.height);\n",
       "            }\n",
       "            fig.context.drawImage(fig.imageObj, 0, 0);\n",
       "        };\n",
       "\n",
       "    this.imageObj.onunload = function() {\n",
       "        this.ws.close();\n",
       "    }\n",
       "\n",
       "    this.ws.onmessage = this._make_on_message_function(this);\n",
       "\n",
       "    this.ondownload = ondownload;\n",
       "}\n",
       "\n",
       "mpl.figure.prototype._init_header = function() {\n",
       "    var titlebar = $(\n",
       "        '<div class=\"ui-dialog-titlebar ui-widget-header ui-corner-all ' +\n",
       "        'ui-helper-clearfix\"/>');\n",
       "    var titletext = $(\n",
       "        '<div class=\"ui-dialog-title\" style=\"width: 100%; ' +\n",
       "        'text-align: center; padding: 3px;\"/>');\n",
       "    titlebar.append(titletext)\n",
       "    this.root.append(titlebar);\n",
       "    this.header = titletext[0];\n",
       "}\n",
       "\n",
       "\n",
       "\n",
       "mpl.figure.prototype._canvas_extra_style = function(canvas_div) {\n",
       "\n",
       "}\n",
       "\n",
       "\n",
       "mpl.figure.prototype._root_extra_style = function(canvas_div) {\n",
       "\n",
       "}\n",
       "\n",
       "mpl.figure.prototype._init_canvas = function() {\n",
       "    var fig = this;\n",
       "\n",
       "    var canvas_div = $('<div/>');\n",
       "\n",
       "    canvas_div.attr('style', 'position: relative; clear: both; outline: 0');\n",
       "\n",
       "    function canvas_keyboard_event(event) {\n",
       "        return fig.key_event(event, event['data']);\n",
       "    }\n",
       "\n",
       "    canvas_div.keydown('key_press', canvas_keyboard_event);\n",
       "    canvas_div.keyup('key_release', canvas_keyboard_event);\n",
       "    this.canvas_div = canvas_div\n",
       "    this._canvas_extra_style(canvas_div)\n",
       "    this.root.append(canvas_div);\n",
       "\n",
       "    var canvas = $('<canvas/>');\n",
       "    canvas.addClass('mpl-canvas');\n",
       "    canvas.attr('style', \"left: 0; top: 0; z-index: 0; outline: 0\")\n",
       "\n",
       "    this.canvas = canvas[0];\n",
       "    this.context = canvas[0].getContext(\"2d\");\n",
       "\n",
       "    var backingStore = this.context.backingStorePixelRatio ||\n",
       "\tthis.context.webkitBackingStorePixelRatio ||\n",
       "\tthis.context.mozBackingStorePixelRatio ||\n",
       "\tthis.context.msBackingStorePixelRatio ||\n",
       "\tthis.context.oBackingStorePixelRatio ||\n",
       "\tthis.context.backingStorePixelRatio || 1;\n",
       "\n",
       "    mpl.ratio = (window.devicePixelRatio || 1) / backingStore;\n",
       "\n",
       "    var rubberband = $('<canvas/>');\n",
       "    rubberband.attr('style', \"position: absolute; left: 0; top: 0; z-index: 1;\")\n",
       "\n",
       "    var pass_mouse_events = true;\n",
       "\n",
       "    canvas_div.resizable({\n",
       "        start: function(event, ui) {\n",
       "            pass_mouse_events = false;\n",
       "        },\n",
       "        resize: function(event, ui) {\n",
       "            fig.request_resize(ui.size.width, ui.size.height);\n",
       "        },\n",
       "        stop: function(event, ui) {\n",
       "            pass_mouse_events = true;\n",
       "            fig.request_resize(ui.size.width, ui.size.height);\n",
       "        },\n",
       "    });\n",
       "\n",
       "    function mouse_event_fn(event) {\n",
       "        if (pass_mouse_events)\n",
       "            return fig.mouse_event(event, event['data']);\n",
       "    }\n",
       "\n",
       "    rubberband.mousedown('button_press', mouse_event_fn);\n",
       "    rubberband.mouseup('button_release', mouse_event_fn);\n",
       "    // Throttle sequential mouse events to 1 every 20ms.\n",
       "    rubberband.mousemove('motion_notify', mouse_event_fn);\n",
       "\n",
       "    rubberband.mouseenter('figure_enter', mouse_event_fn);\n",
       "    rubberband.mouseleave('figure_leave', mouse_event_fn);\n",
       "\n",
       "    canvas_div.on(\"wheel\", function (event) {\n",
       "        event = event.originalEvent;\n",
       "        event['data'] = 'scroll'\n",
       "        if (event.deltaY < 0) {\n",
       "            event.step = 1;\n",
       "        } else {\n",
       "            event.step = -1;\n",
       "        }\n",
       "        mouse_event_fn(event);\n",
       "    });\n",
       "\n",
       "    canvas_div.append(canvas);\n",
       "    canvas_div.append(rubberband);\n",
       "\n",
       "    this.rubberband = rubberband;\n",
       "    this.rubberband_canvas = rubberband[0];\n",
       "    this.rubberband_context = rubberband[0].getContext(\"2d\");\n",
       "    this.rubberband_context.strokeStyle = \"#000000\";\n",
       "\n",
       "    this._resize_canvas = function(width, height) {\n",
       "        // Keep the size of the canvas, canvas container, and rubber band\n",
       "        // canvas in synch.\n",
       "        canvas_div.css('width', width)\n",
       "        canvas_div.css('height', height)\n",
       "\n",
       "        canvas.attr('width', width * mpl.ratio);\n",
       "        canvas.attr('height', height * mpl.ratio);\n",
       "        canvas.attr('style', 'width: ' + width + 'px; height: ' + height + 'px;');\n",
       "\n",
       "        rubberband.attr('width', width);\n",
       "        rubberband.attr('height', height);\n",
       "    }\n",
       "\n",
       "    // Set the figure to an initial 600x600px, this will subsequently be updated\n",
       "    // upon first draw.\n",
       "    this._resize_canvas(600, 600);\n",
       "\n",
       "    // Disable right mouse context menu.\n",
       "    $(this.rubberband_canvas).bind(\"contextmenu\",function(e){\n",
       "        return false;\n",
       "    });\n",
       "\n",
       "    function set_focus () {\n",
       "        canvas.focus();\n",
       "        canvas_div.focus();\n",
       "    }\n",
       "\n",
       "    window.setTimeout(set_focus, 100);\n",
       "}\n",
       "\n",
       "mpl.figure.prototype._init_toolbar = function() {\n",
       "    var fig = this;\n",
       "\n",
       "    var nav_element = $('<div/>')\n",
       "    nav_element.attr('style', 'width: 100%');\n",
       "    this.root.append(nav_element);\n",
       "\n",
       "    // Define a callback function for later on.\n",
       "    function toolbar_event(event) {\n",
       "        return fig.toolbar_button_onclick(event['data']);\n",
       "    }\n",
       "    function toolbar_mouse_event(event) {\n",
       "        return fig.toolbar_button_onmouseover(event['data']);\n",
       "    }\n",
       "\n",
       "    for(var toolbar_ind in mpl.toolbar_items) {\n",
       "        var name = mpl.toolbar_items[toolbar_ind][0];\n",
       "        var tooltip = mpl.toolbar_items[toolbar_ind][1];\n",
       "        var image = mpl.toolbar_items[toolbar_ind][2];\n",
       "        var method_name = mpl.toolbar_items[toolbar_ind][3];\n",
       "\n",
       "        if (!name) {\n",
       "            // put a spacer in here.\n",
       "            continue;\n",
       "        }\n",
       "        var button = $('<button/>');\n",
       "        button.addClass('ui-button ui-widget ui-state-default ui-corner-all ' +\n",
       "                        'ui-button-icon-only');\n",
       "        button.attr('role', 'button');\n",
       "        button.attr('aria-disabled', 'false');\n",
       "        button.click(method_name, toolbar_event);\n",
       "        button.mouseover(tooltip, toolbar_mouse_event);\n",
       "\n",
       "        var icon_img = $('<span/>');\n",
       "        icon_img.addClass('ui-button-icon-primary ui-icon');\n",
       "        icon_img.addClass(image);\n",
       "        icon_img.addClass('ui-corner-all');\n",
       "\n",
       "        var tooltip_span = $('<span/>');\n",
       "        tooltip_span.addClass('ui-button-text');\n",
       "        tooltip_span.html(tooltip);\n",
       "\n",
       "        button.append(icon_img);\n",
       "        button.append(tooltip_span);\n",
       "\n",
       "        nav_element.append(button);\n",
       "    }\n",
       "\n",
       "    var fmt_picker_span = $('<span/>');\n",
       "\n",
       "    var fmt_picker = $('<select/>');\n",
       "    fmt_picker.addClass('mpl-toolbar-option ui-widget ui-widget-content');\n",
       "    fmt_picker_span.append(fmt_picker);\n",
       "    nav_element.append(fmt_picker_span);\n",
       "    this.format_dropdown = fmt_picker[0];\n",
       "\n",
       "    for (var ind in mpl.extensions) {\n",
       "        var fmt = mpl.extensions[ind];\n",
       "        var option = $(\n",
       "            '<option/>', {selected: fmt === mpl.default_extension}).html(fmt);\n",
       "        fmt_picker.append(option)\n",
       "    }\n",
       "\n",
       "    // Add hover states to the ui-buttons\n",
       "    $( \".ui-button\" ).hover(\n",
       "        function() { $(this).addClass(\"ui-state-hover\");},\n",
       "        function() { $(this).removeClass(\"ui-state-hover\");}\n",
       "    );\n",
       "\n",
       "    var status_bar = $('<span class=\"mpl-message\"/>');\n",
       "    nav_element.append(status_bar);\n",
       "    this.message = status_bar[0];\n",
       "}\n",
       "\n",
       "mpl.figure.prototype.request_resize = function(x_pixels, y_pixels) {\n",
       "    // Request matplotlib to resize the figure. Matplotlib will then trigger a resize in the client,\n",
       "    // which will in turn request a refresh of the image.\n",
       "    this.send_message('resize', {'width': x_pixels, 'height': y_pixels});\n",
       "}\n",
       "\n",
       "mpl.figure.prototype.send_message = function(type, properties) {\n",
       "    properties['type'] = type;\n",
       "    properties['figure_id'] = this.id;\n",
       "    this.ws.send(JSON.stringify(properties));\n",
       "}\n",
       "\n",
       "mpl.figure.prototype.send_draw_message = function() {\n",
       "    if (!this.waiting) {\n",
       "        this.waiting = true;\n",
       "        this.ws.send(JSON.stringify({type: \"draw\", figure_id: this.id}));\n",
       "    }\n",
       "}\n",
       "\n",
       "\n",
       "mpl.figure.prototype.handle_save = function(fig, msg) {\n",
       "    var format_dropdown = fig.format_dropdown;\n",
       "    var format = format_dropdown.options[format_dropdown.selectedIndex].value;\n",
       "    fig.ondownload(fig, format);\n",
       "}\n",
       "\n",
       "\n",
       "mpl.figure.prototype.handle_resize = function(fig, msg) {\n",
       "    var size = msg['size'];\n",
       "    if (size[0] != fig.canvas.width || size[1] != fig.canvas.height) {\n",
       "        fig._resize_canvas(size[0], size[1]);\n",
       "        fig.send_message(\"refresh\", {});\n",
       "    };\n",
       "}\n",
       "\n",
       "mpl.figure.prototype.handle_rubberband = function(fig, msg) {\n",
       "    var x0 = msg['x0'] / mpl.ratio;\n",
       "    var y0 = (fig.canvas.height - msg['y0']) / mpl.ratio;\n",
       "    var x1 = msg['x1'] / mpl.ratio;\n",
       "    var y1 = (fig.canvas.height - msg['y1']) / mpl.ratio;\n",
       "    x0 = Math.floor(x0) + 0.5;\n",
       "    y0 = Math.floor(y0) + 0.5;\n",
       "    x1 = Math.floor(x1) + 0.5;\n",
       "    y1 = Math.floor(y1) + 0.5;\n",
       "    var min_x = Math.min(x0, x1);\n",
       "    var min_y = Math.min(y0, y1);\n",
       "    var width = Math.abs(x1 - x0);\n",
       "    var height = Math.abs(y1 - y0);\n",
       "\n",
       "    fig.rubberband_context.clearRect(\n",
       "        0, 0, fig.canvas.width, fig.canvas.height);\n",
       "\n",
       "    fig.rubberband_context.strokeRect(min_x, min_y, width, height);\n",
       "}\n",
       "\n",
       "mpl.figure.prototype.handle_figure_label = function(fig, msg) {\n",
       "    // Updates the figure title.\n",
       "    fig.header.textContent = msg['label'];\n",
       "}\n",
       "\n",
       "mpl.figure.prototype.handle_cursor = function(fig, msg) {\n",
       "    var cursor = msg['cursor'];\n",
       "    switch(cursor)\n",
       "    {\n",
       "    case 0:\n",
       "        cursor = 'pointer';\n",
       "        break;\n",
       "    case 1:\n",
       "        cursor = 'default';\n",
       "        break;\n",
       "    case 2:\n",
       "        cursor = 'crosshair';\n",
       "        break;\n",
       "    case 3:\n",
       "        cursor = 'move';\n",
       "        break;\n",
       "    }\n",
       "    fig.rubberband_canvas.style.cursor = cursor;\n",
       "}\n",
       "\n",
       "mpl.figure.prototype.handle_message = function(fig, msg) {\n",
       "    fig.message.textContent = msg['message'];\n",
       "}\n",
       "\n",
       "mpl.figure.prototype.handle_draw = function(fig, msg) {\n",
       "    // Request the server to send over a new figure.\n",
       "    fig.send_draw_message();\n",
       "}\n",
       "\n",
       "mpl.figure.prototype.handle_image_mode = function(fig, msg) {\n",
       "    fig.image_mode = msg['mode'];\n",
       "}\n",
       "\n",
       "mpl.figure.prototype.updated_canvas_event = function() {\n",
       "    // Called whenever the canvas gets updated.\n",
       "    this.send_message(\"ack\", {});\n",
       "}\n",
       "\n",
       "// A function to construct a web socket function for onmessage handling.\n",
       "// Called in the figure constructor.\n",
       "mpl.figure.prototype._make_on_message_function = function(fig) {\n",
       "    return function socket_on_message(evt) {\n",
       "        if (evt.data instanceof Blob) {\n",
       "            /* FIXME: We get \"Resource interpreted as Image but\n",
       "             * transferred with MIME type text/plain:\" errors on\n",
       "             * Chrome.  But how to set the MIME type?  It doesn't seem\n",
       "             * to be part of the websocket stream */\n",
       "            evt.data.type = \"image/png\";\n",
       "\n",
       "            /* Free the memory for the previous frames */\n",
       "            if (fig.imageObj.src) {\n",
       "                (window.URL || window.webkitURL).revokeObjectURL(\n",
       "                    fig.imageObj.src);\n",
       "            }\n",
       "\n",
       "            fig.imageObj.src = (window.URL || window.webkitURL).createObjectURL(\n",
       "                evt.data);\n",
       "            fig.updated_canvas_event();\n",
       "            fig.waiting = false;\n",
       "            return;\n",
       "        }\n",
       "        else if (typeof evt.data === 'string' && evt.data.slice(0, 21) == \"data:image/png;base64\") {\n",
       "            fig.imageObj.src = evt.data;\n",
       "            fig.updated_canvas_event();\n",
       "            fig.waiting = false;\n",
       "            return;\n",
       "        }\n",
       "\n",
       "        var msg = JSON.parse(evt.data);\n",
       "        var msg_type = msg['type'];\n",
       "\n",
       "        // Call the  \"handle_{type}\" callback, which takes\n",
       "        // the figure and JSON message as its only arguments.\n",
       "        try {\n",
       "            var callback = fig[\"handle_\" + msg_type];\n",
       "        } catch (e) {\n",
       "            console.log(\"No handler for the '\" + msg_type + \"' message type: \", msg);\n",
       "            return;\n",
       "        }\n",
       "\n",
       "        if (callback) {\n",
       "            try {\n",
       "                // console.log(\"Handling '\" + msg_type + \"' message: \", msg);\n",
       "                callback(fig, msg);\n",
       "            } catch (e) {\n",
       "                console.log(\"Exception inside the 'handler_\" + msg_type + \"' callback:\", e, e.stack, msg);\n",
       "            }\n",
       "        }\n",
       "    };\n",
       "}\n",
       "\n",
       "// from http://stackoverflow.com/questions/1114465/getting-mouse-location-in-canvas\n",
       "mpl.findpos = function(e) {\n",
       "    //this section is from http://www.quirksmode.org/js/events_properties.html\n",
       "    var targ;\n",
       "    if (!e)\n",
       "        e = window.event;\n",
       "    if (e.target)\n",
       "        targ = e.target;\n",
       "    else if (e.srcElement)\n",
       "        targ = e.srcElement;\n",
       "    if (targ.nodeType == 3) // defeat Safari bug\n",
       "        targ = targ.parentNode;\n",
       "\n",
       "    // jQuery normalizes the pageX and pageY\n",
       "    // pageX,Y are the mouse positions relative to the document\n",
       "    // offset() returns the position of the element relative to the document\n",
       "    var x = e.pageX - $(targ).offset().left;\n",
       "    var y = e.pageY - $(targ).offset().top;\n",
       "\n",
       "    return {\"x\": x, \"y\": y};\n",
       "};\n",
       "\n",
       "/*\n",
       " * return a copy of an object with only non-object keys\n",
       " * we need this to avoid circular references\n",
       " * http://stackoverflow.com/a/24161582/3208463\n",
       " */\n",
       "function simpleKeys (original) {\n",
       "  return Object.keys(original).reduce(function (obj, key) {\n",
       "    if (typeof original[key] !== 'object')\n",
       "        obj[key] = original[key]\n",
       "    return obj;\n",
       "  }, {});\n",
       "}\n",
       "\n",
       "mpl.figure.prototype.mouse_event = function(event, name) {\n",
       "    var canvas_pos = mpl.findpos(event)\n",
       "\n",
       "    if (name === 'button_press')\n",
       "    {\n",
       "        this.canvas.focus();\n",
       "        this.canvas_div.focus();\n",
       "    }\n",
       "\n",
       "    var x = canvas_pos.x * mpl.ratio;\n",
       "    var y = canvas_pos.y * mpl.ratio;\n",
       "\n",
       "    this.send_message(name, {x: x, y: y, button: event.button,\n",
       "                             step: event.step,\n",
       "                             guiEvent: simpleKeys(event)});\n",
       "\n",
       "    /* This prevents the web browser from automatically changing to\n",
       "     * the text insertion cursor when the button is pressed.  We want\n",
       "     * to control all of the cursor setting manually through the\n",
       "     * 'cursor' event from matplotlib */\n",
       "    event.preventDefault();\n",
       "    return false;\n",
       "}\n",
       "\n",
       "mpl.figure.prototype._key_event_extra = function(event, name) {\n",
       "    // Handle any extra behaviour associated with a key event\n",
       "}\n",
       "\n",
       "mpl.figure.prototype.key_event = function(event, name) {\n",
       "\n",
       "    // Prevent repeat events\n",
       "    if (name == 'key_press')\n",
       "    {\n",
       "        if (event.which === this._key)\n",
       "            return;\n",
       "        else\n",
       "            this._key = event.which;\n",
       "    }\n",
       "    if (name == 'key_release')\n",
       "        this._key = null;\n",
       "\n",
       "    var value = '';\n",
       "    if (event.ctrlKey && event.which != 17)\n",
       "        value += \"ctrl+\";\n",
       "    if (event.altKey && event.which != 18)\n",
       "        value += \"alt+\";\n",
       "    if (event.shiftKey && event.which != 16)\n",
       "        value += \"shift+\";\n",
       "\n",
       "    value += 'k';\n",
       "    value += event.which.toString();\n",
       "\n",
       "    this._key_event_extra(event, name);\n",
       "\n",
       "    this.send_message(name, {key: value,\n",
       "                             guiEvent: simpleKeys(event)});\n",
       "    return false;\n",
       "}\n",
       "\n",
       "mpl.figure.prototype.toolbar_button_onclick = function(name) {\n",
       "    if (name == 'download') {\n",
       "        this.handle_save(this, null);\n",
       "    } else {\n",
       "        this.send_message(\"toolbar_button\", {name: name});\n",
       "    }\n",
       "};\n",
       "\n",
       "mpl.figure.prototype.toolbar_button_onmouseover = function(tooltip) {\n",
       "    this.message.textContent = tooltip;\n",
       "};\n",
       "mpl.toolbar_items = [[\"Home\", \"Reset original view\", \"fa fa-home icon-home\", \"home\"], [\"Back\", \"Back to  previous view\", \"fa fa-arrow-left icon-arrow-left\", \"back\"], [\"Forward\", \"Forward to next view\", \"fa fa-arrow-right icon-arrow-right\", \"forward\"], [\"\", \"\", \"\", \"\"], [\"Pan\", \"Pan axes with left mouse, zoom with right\", \"fa fa-arrows icon-move\", \"pan\"], [\"Zoom\", \"Zoom to rectangle\", \"fa fa-square-o icon-check-empty\", \"zoom\"], [\"\", \"\", \"\", \"\"], [\"Download\", \"Download plot\", \"fa fa-floppy-o icon-save\", \"download\"]];\n",
       "\n",
       "mpl.extensions = [\"eps\", \"pdf\", \"png\", \"ps\", \"raw\", \"svg\"];\n",
       "\n",
       "mpl.default_extension = \"png\";var comm_websocket_adapter = function(comm) {\n",
       "    // Create a \"websocket\"-like object which calls the given IPython comm\n",
       "    // object with the appropriate methods. Currently this is a non binary\n",
       "    // socket, so there is still some room for performance tuning.\n",
       "    var ws = {};\n",
       "\n",
       "    ws.close = function() {\n",
       "        comm.close()\n",
       "    };\n",
       "    ws.send = function(m) {\n",
       "        //console.log('sending', m);\n",
       "        comm.send(m);\n",
       "    };\n",
       "    // Register the callback with on_msg.\n",
       "    comm.on_msg(function(msg) {\n",
       "        //console.log('receiving', msg['content']['data'], msg);\n",
       "        // Pass the mpl event to the overriden (by mpl) onmessage function.\n",
       "        ws.onmessage(msg['content']['data'])\n",
       "    });\n",
       "    return ws;\n",
       "}\n",
       "\n",
       "mpl.mpl_figure_comm = function(comm, msg) {\n",
       "    // This is the function which gets called when the mpl process\n",
       "    // starts-up an IPython Comm through the \"matplotlib\" channel.\n",
       "\n",
       "    var id = msg.content.data.id;\n",
       "    // Get hold of the div created by the display call when the Comm\n",
       "    // socket was opened in Python.\n",
       "    var element = $(\"#\" + id);\n",
       "    var ws_proxy = comm_websocket_adapter(comm)\n",
       "\n",
       "    function ondownload(figure, format) {\n",
       "        window.open(figure.imageObj.src);\n",
       "    }\n",
       "\n",
       "    var fig = new mpl.figure(id, ws_proxy,\n",
       "                           ondownload,\n",
       "                           element.get(0));\n",
       "\n",
       "    // Call onopen now - mpl needs it, as it is assuming we've passed it a real\n",
       "    // web socket which is closed, not our websocket->open comm proxy.\n",
       "    ws_proxy.onopen();\n",
       "\n",
       "    fig.parent_element = element.get(0);\n",
       "    fig.cell_info = mpl.find_output_cell(\"<div id='\" + id + \"'></div>\");\n",
       "    if (!fig.cell_info) {\n",
       "        console.error(\"Failed to find cell for figure\", id, fig);\n",
       "        return;\n",
       "    }\n",
       "\n",
       "    var output_index = fig.cell_info[2]\n",
       "    var cell = fig.cell_info[0];\n",
       "\n",
       "};\n",
       "\n",
       "mpl.figure.prototype.handle_close = function(fig, msg) {\n",
       "    var width = fig.canvas.width/mpl.ratio\n",
       "    fig.root.unbind('remove')\n",
       "\n",
       "    // Update the output cell to use the data from the current canvas.\n",
       "    fig.push_to_output();\n",
       "    var dataURL = fig.canvas.toDataURL();\n",
       "    // Re-enable the keyboard manager in IPython - without this line, in FF,\n",
       "    // the notebook keyboard shortcuts fail.\n",
       "    IPython.keyboard_manager.enable()\n",
       "    $(fig.parent_element).html('<img src=\"' + dataURL + '\" width=\"' + width + '\">');\n",
       "    fig.close_ws(fig, msg);\n",
       "}\n",
       "\n",
       "mpl.figure.prototype.close_ws = function(fig, msg){\n",
       "    fig.send_message('closing', msg);\n",
       "    // fig.ws.close()\n",
       "}\n",
       "\n",
       "mpl.figure.prototype.push_to_output = function(remove_interactive) {\n",
       "    // Turn the data on the canvas into data in the output cell.\n",
       "    var width = this.canvas.width/mpl.ratio\n",
       "    var dataURL = this.canvas.toDataURL();\n",
       "    this.cell_info[1]['text/html'] = '<img src=\"' + dataURL + '\" width=\"' + width + '\">';\n",
       "}\n",
       "\n",
       "mpl.figure.prototype.updated_canvas_event = function() {\n",
       "    // Tell IPython that the notebook contents must change.\n",
       "    IPython.notebook.set_dirty(true);\n",
       "    this.send_message(\"ack\", {});\n",
       "    var fig = this;\n",
       "    // Wait a second, then push the new image to the DOM so\n",
       "    // that it is saved nicely (might be nice to debounce this).\n",
       "    setTimeout(function () { fig.push_to_output() }, 1000);\n",
       "}\n",
       "\n",
       "mpl.figure.prototype._init_toolbar = function() {\n",
       "    var fig = this;\n",
       "\n",
       "    var nav_element = $('<div/>')\n",
       "    nav_element.attr('style', 'width: 100%');\n",
       "    this.root.append(nav_element);\n",
       "\n",
       "    // Define a callback function for later on.\n",
       "    function toolbar_event(event) {\n",
       "        return fig.toolbar_button_onclick(event['data']);\n",
       "    }\n",
       "    function toolbar_mouse_event(event) {\n",
       "        return fig.toolbar_button_onmouseover(event['data']);\n",
       "    }\n",
       "\n",
       "    for(var toolbar_ind in mpl.toolbar_items){\n",
       "        var name = mpl.toolbar_items[toolbar_ind][0];\n",
       "        var tooltip = mpl.toolbar_items[toolbar_ind][1];\n",
       "        var image = mpl.toolbar_items[toolbar_ind][2];\n",
       "        var method_name = mpl.toolbar_items[toolbar_ind][3];\n",
       "\n",
       "        if (!name) { continue; };\n",
       "\n",
       "        var button = $('<button class=\"btn btn-default\" href=\"#\" title=\"' + name + '\"><i class=\"fa ' + image + ' fa-lg\"></i></button>');\n",
       "        button.click(method_name, toolbar_event);\n",
       "        button.mouseover(tooltip, toolbar_mouse_event);\n",
       "        nav_element.append(button);\n",
       "    }\n",
       "\n",
       "    // Add the status bar.\n",
       "    var status_bar = $('<span class=\"mpl-message\" style=\"text-align:right; float: right;\"/>');\n",
       "    nav_element.append(status_bar);\n",
       "    this.message = status_bar[0];\n",
       "\n",
       "    // Add the close button to the window.\n",
       "    var buttongrp = $('<div class=\"btn-group inline pull-right\"></div>');\n",
       "    var button = $('<button class=\"btn btn-mini btn-primary\" href=\"#\" title=\"Stop Interaction\"><i class=\"fa fa-power-off icon-remove icon-large\"></i></button>');\n",
       "    button.click(function (evt) { fig.handle_close(fig, {}); } );\n",
       "    button.mouseover('Stop Interaction', toolbar_mouse_event);\n",
       "    buttongrp.append(button);\n",
       "    var titlebar = this.root.find($('.ui-dialog-titlebar'));\n",
       "    titlebar.prepend(buttongrp);\n",
       "}\n",
       "\n",
       "mpl.figure.prototype._root_extra_style = function(el){\n",
       "    var fig = this\n",
       "    el.on(\"remove\", function(){\n",
       "\tfig.close_ws(fig, {});\n",
       "    });\n",
       "}\n",
       "\n",
       "mpl.figure.prototype._canvas_extra_style = function(el){\n",
       "    // this is important to make the div 'focusable\n",
       "    el.attr('tabindex', 0)\n",
       "    // reach out to IPython and tell the keyboard manager to turn it's self\n",
       "    // off when our div gets focus\n",
       "\n",
       "    // location in version 3\n",
       "    if (IPython.notebook.keyboard_manager) {\n",
       "        IPython.notebook.keyboard_manager.register_events(el);\n",
       "    }\n",
       "    else {\n",
       "        // location in version 2\n",
       "        IPython.keyboard_manager.register_events(el);\n",
       "    }\n",
       "\n",
       "}\n",
       "\n",
       "mpl.figure.prototype._key_event_extra = function(event, name) {\n",
       "    var manager = IPython.notebook.keyboard_manager;\n",
       "    if (!manager)\n",
       "        manager = IPython.keyboard_manager;\n",
       "\n",
       "    // Check for shift+enter\n",
       "    if (event.shiftKey && event.which == 13) {\n",
       "        this.canvas_div.blur();\n",
       "        // select the cell after this one\n",
       "        var index = IPython.notebook.find_cell_index(this.cell_info[0]);\n",
       "        IPython.notebook.select(index + 1);\n",
       "    }\n",
       "}\n",
       "\n",
       "mpl.figure.prototype.handle_save = function(fig, msg) {\n",
       "    fig.ondownload(fig, null);\n",
       "}\n",
       "\n",
       "\n",
       "mpl.find_output_cell = function(html_output) {\n",
       "    // Return the cell and output element which can be found *uniquely* in the notebook.\n",
       "    // Note - this is a bit hacky, but it is done because the \"notebook_saving.Notebook\"\n",
       "    // IPython event is triggered only after the cells have been serialised, which for\n",
       "    // our purposes (turning an active figure into a static one), is too late.\n",
       "    var cells = IPython.notebook.get_cells();\n",
       "    var ncells = cells.length;\n",
       "    for (var i=0; i<ncells; i++) {\n",
       "        var cell = cells[i];\n",
       "        if (cell.cell_type === 'code'){\n",
       "            for (var j=0; j<cell.output_area.outputs.length; j++) {\n",
       "                var data = cell.output_area.outputs[j];\n",
       "                if (data.data) {\n",
       "                    // IPython >= 3 moved mimebundle to data attribute of output\n",
       "                    data = data.data;\n",
       "                }\n",
       "                if (data['text/html'] == html_output) {\n",
       "                    return [cell, data, j];\n",
       "                }\n",
       "            }\n",
       "        }\n",
       "    }\n",
       "}\n",
       "\n",
       "// Register the function which deals with the matplotlib target/channel.\n",
       "// The kernel may be null if the page has been refreshed.\n",
       "if (IPython.notebook.kernel != null) {\n",
       "    IPython.notebook.kernel.comm_manager.register_target('matplotlib', mpl.mpl_figure_comm);\n",
       "}\n"
      ],
      "text/plain": [
       "<IPython.core.display.Javascript object>"
      ]
     },
     "metadata": {},
     "output_type": "display_data"
    },
    {
     "data": {
      "text/html": [
       "<img src=\"data:image/png;base64,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\" width=\"640\">"
      ],
      "text/plain": [
       "<IPython.core.display.HTML object>"
      ]
     },
     "metadata": {},
     "output_type": "display_data"
    },
    {
     "data": {
      "text/plain": [
       "<matplotlib.collections.PathCollection at 0x122a6ab00>"
      ]
     },
     "execution_count": 92,
     "metadata": {},
     "output_type": "execute_result"
    }
   ],
   "source": [
    "plt.scatter(x[6:], y[6:])# complete"
   ]
  },
  {
   "cell_type": "markdown",
   "metadata": {
    "slideshow": {
     "slide_type": "subslide"
    }
   },
   "source": [
    "By eye, the results above are not that satisfying. Several of those points do look like outliers, but there are also 2 points being rejected that are well within the other cluster of data.\n",
    "\n",
    "Furthermore, the point at $(x, y) \\approx (60, 170)$ was clipped in an early iteration of the algorithm, but now with the final model this point is actually within $k\\sigma$ of the best-fit line. What should one do with points like this?"
   ]
  },
  {
   "cell_type": "markdown",
   "metadata": {
    "slideshow": {
     "slide_type": "subslide"
    }
   },
   "source": [
    "This is one of the great problems with $k\\sigma$ clipping: how does one select the appropriate value for $k$?\n",
    "\n",
    "Even if there was a good heuristic argument for selecting $k$, is there fundamentally any difference between an observation that is $k\\sigma + \\epsilon$ away from the model versus a point at $k\\sigma - \\epsilon$, where $\\epsilon \\ll 1$? Any choice of $k$ will automatically remove one of these points and not the other, which seems somewhat arbitrary..."
   ]
  },
  {
   "cell_type": "markdown",
   "metadata": {
    "slideshow": {
     "slide_type": "slide"
    }
   },
   "source": [
    "**Problem 3d**\n",
    "\n",
    "Perform the $k\\sigma$ procedure on the data, but this time set $k = 7$. Plot the results as above.\n",
    "\n",
    "How do these results compare to our previous fits?"
   ]
  },
  {
   "cell_type": "code",
   "execution_count": null,
   "metadata": {
    "collapsed": true,
    "slideshow": {
     "slide_type": "subslide"
    }
   },
   "outputs": [],
   "source": [
    "# complete"
   ]
  },
  {
   "cell_type": "markdown",
   "metadata": {
    "slideshow": {
     "slide_type": "subslide"
    }
   },
   "source": [
    "By eye, this *appears* superior to the previous fit. At the same time, we have not actually optimized anything to definitively show that this is the case.\n",
    "\n",
    "If there are outliers in the data, then it stands to reason that the uncertainties are likely not correctly estimated."
   ]
  },
  {
   "cell_type": "markdown",
   "metadata": {
    "slideshow": {
     "slide_type": "subslide"
    }
   },
   "source": [
    "**Problem 3e**\n",
    "\n",
    "Perform the $k\\sigma$ procedure on the data, with $k = 5$, but the variance increased by a factor 4 (i.e. `sigma_y` increased by a factor of 2). Plot the results as above.\n",
    "\n",
    "How do these results compare to our previous fits?"
   ]
  },
  {
   "cell_type": "code",
   "execution_count": null,
   "metadata": {
    "collapsed": true,
    "slideshow": {
     "slide_type": "subslide"
    }
   },
   "outputs": [],
   "source": [
    "# complete"
   ]
  },
  {
   "cell_type": "markdown",
   "metadata": {
    "slideshow": {
     "slide_type": "subslide"
    }
   },
   "source": [
    "If the uncertainties were underestimated then none of the data get clipped from the fit!"
   ]
  },
  {
   "cell_type": "markdown",
   "metadata": {
    "slideshow": {
     "slide_type": "slide"
    }
   },
   "source": [
    "I assume (and I hope I've convinced you that assumptions are dangerous) that if you have worked with astronomical data that at one point or another you have (i) encountered data that appear to have outliers, and/or (ii) plotted data in 2 dimensions and then performed a (least-squares) linear fit to that data."
   ]
  },
  {
   "cell_type": "markdown",
   "metadata": {
    "slideshow": {
     "slide_type": "subslide"
    }
   },
   "source": [
    "If that is true, I sincerely hope you have the following two thoughts:\n",
    "\n",
    "1. Crap, crap, crap - I really messed up my paper on [*REDACTED*].\n",
    "2. There has to be a better way!"
   ]
  },
  {
   "cell_type": "markdown",
   "metadata": {
    "slideshow": {
     "slide_type": "subslide"
    }
   },
   "source": [
    "First, let's address point 1. Don't freak out. Yes, it is probably the case that some work somewhere was not completed in the absolute most rigorous fashion possible. This is okay (and I feel fairly confident saying everyone has done it. There are definitely examples of each of the \"bad\" things described above in *my* papers if you go back and look hard enough.)\n",
    "\n",
    "There are even some situations where the above prescriptions are appropriate and preferred (think engineering solutions as opposed to strict scientific inference). "
   ]
  },
  {
   "cell_type": "markdown",
   "metadata": {
    "slideshow": {
     "slide_type": "subslide"
    }
   },
   "source": [
    "More importantly - point 2: there is a better way. Especially for the data/problem that we have been investigating above.\n",
    "\n",
    "In particular, we can take a Bayesian approach to the problem (see Mario's lecture this afternoon), whereby we define a generative model (see Adam's lecture on Tuesday) that allows us to compute the likelihood of the observations (see Zeljko's lecture this afternoon). The computation of the likelihood or posterior probability distribution requires complex integrals, but this is possible using sophisticated sampling techniques (see Andy's talk on Tuesday).\n",
    "\n",
    "The combination of each of these tools provides a far more satisfying result than the various procedures previously discussed in this lecture. "
   ]
  },
  {
   "cell_type": "markdown",
   "metadata": {
    "slideshow": {
     "slide_type": "slide"
    }
   },
   "source": [
    "## Challenge Problem\n",
    "\n",
    "Use the procedure described above to determine the best-fit values for the slope and intercept of a line fit to the data."
   ]
  },
  {
   "cell_type": "code",
   "execution_count": null,
   "metadata": {
    "collapsed": true
   },
   "outputs": [],
   "source": []
  }
 ],
 "metadata": {
  "celltoolbar": "Slideshow",
  "kernelspec": {
   "display_name": "Python 3",
   "language": "python",
   "name": "python3"
  },
  "language_info": {
   "codemirror_mode": {
    "name": "ipython",
    "version": 3
   },
   "file_extension": ".py",
   "mimetype": "text/x-python",
   "name": "python",
   "nbconvert_exporter": "python",
   "pygments_lexer": "ipython3",
   "version": "3.6.5"
  }
 },
 "nbformat": 4,
 "nbformat_minor": 2
}
